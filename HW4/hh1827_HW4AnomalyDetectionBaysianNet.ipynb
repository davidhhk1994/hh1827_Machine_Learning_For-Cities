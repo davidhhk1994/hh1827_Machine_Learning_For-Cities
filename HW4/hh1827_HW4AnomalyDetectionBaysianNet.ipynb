{
 "cells": [
  {
   "cell_type": "markdown",
   "metadata": {},
   "source": [
    "## MLC HW 4\n",
    "\n",
    "### Question 1 (40 points)\n",
    "\n",
    "In this question, you will model traffic counts in Pittsburgh using Gaussian process (GP) regression.  The included dataset, \"PittsburghTrafficCounts.csv\", represents the average daily traffic counts computed by traffic sensors at over 1,100 locations in Allegheny County, PA.  The data was collected from years 2012-2014 and compiled by Carnegie Mellon University’s Traffic21 Institute; we have the longitude, latitude, and average daily count for each sensor.  \n",
    "\n",
    "Given this dataset, your goal is to learn a model of traffic count as a function of spatial location.  To do so, fit a Gaussian Process regression model to the observed data.  While you can decide on the precise kernel specification, you should try to achieve a good model fit, as quantified by a log marginal likelihood value greater than (i.e., less negative than) -1400.  Here are some hints for getting a good model fit:\n",
    "\n",
    "* We recommend that you take the logarithm of the traffic counts, and then subtract the mean of this vector, before fitting the model.\n",
    "\n",
    "* Since the data is noisy, don't forget to include a noise term (WhiteKernel) in your model.\n",
    "\n",
    "* When fitting a GP with RBF kernel on multidimensional data, you can learn a separate length scale for each dimension, e.g., length_scale=(length_scale_x, length_scale_y). \n",
    "\n",
    "Your Python code should provide the following five outputs:\n",
    "\n",
    "1) The kernel after parameter optimization and fitting to the observed data. (10 pts)\n",
    "\n",
    "2) The log marginal likelihood of the training data. (5 pts)\n",
    "\n",
    "3) Show a 2-D plot of the model's predictions over a mesh grid of longitude/latitude (with color corresponding to the model's predictions) and overlay a 2-D scatter plot of sensor locations (with color corresponding to the observed values). (10 pts)\n",
    "\n",
    "4) What percentage of sensors have average traffic counts more than two standard deviations higher or lower than the model predicts given their spatial location? (5 pts)\n",
    "\n",
    "5) Show a 2-D scatter plot of the sensor locations, with three colors corresponding to observed values a) more than two standard deviations higher than predicted, b) more then two standard deviations lower than predicted, and c) within two standard deviations of the predicted values. (10 pts)\n"
   ]
  },
  {
   "cell_type": "code",
   "execution_count": 12,
   "metadata": {
    "ExecuteTime": {
     "end_time": "2018-04-26T02:20:52.399000Z",
     "start_time": "2018-04-26T02:20:52.394000Z"
    },
    "collapsed": true
   },
   "outputs": [],
   "source": [
    "from matplotlib import pyplot as plt\n",
    "from sklearn.gaussian_process import GaussianProcessRegressor\n",
    "from sklearn.gaussian_process.kernels import RBF, ConstantKernel,WhiteKernel"
   ]
  },
  {
   "cell_type": "code",
   "execution_count": 13,
   "metadata": {
    "ExecuteTime": {
     "end_time": "2018-04-26T02:20:52.446000Z",
     "start_time": "2018-04-26T02:20:52.403000Z"
    }
   },
   "outputs": [
    {
     "data": {
      "text/html": [
       "<div>\n",
       "<style>\n",
       "    .dataframe thead tr:only-child th {\n",
       "        text-align: right;\n",
       "    }\n",
       "\n",
       "    .dataframe thead th {\n",
       "        text-align: left;\n",
       "    }\n",
       "\n",
       "    .dataframe tbody tr th {\n",
       "        vertical-align: top;\n",
       "    }\n",
       "</style>\n",
       "<table border=\"1\" class=\"dataframe\">\n",
       "  <thead>\n",
       "    <tr style=\"text-align: right;\">\n",
       "      <th></th>\n",
       "      <th>Longitude</th>\n",
       "      <th>Latitude</th>\n",
       "      <th>AvgDailyTrafficCount</th>\n",
       "    </tr>\n",
       "  </thead>\n",
       "  <tbody>\n",
       "    <tr>\n",
       "      <th>0</th>\n",
       "      <td>-80.278366</td>\n",
       "      <td>40.468606</td>\n",
       "      <td>84.0</td>\n",
       "    </tr>\n",
       "    <tr>\n",
       "      <th>1</th>\n",
       "      <td>-80.162117</td>\n",
       "      <td>40.384598</td>\n",
       "      <td>95.0</td>\n",
       "    </tr>\n",
       "    <tr>\n",
       "      <th>2</th>\n",
       "      <td>-80.221205</td>\n",
       "      <td>40.366778</td>\n",
       "      <td>97.0</td>\n",
       "    </tr>\n",
       "    <tr>\n",
       "      <th>3</th>\n",
       "      <td>-80.142455</td>\n",
       "      <td>40.622084</td>\n",
       "      <td>111.0</td>\n",
       "    </tr>\n",
       "    <tr>\n",
       "      <th>4</th>\n",
       "      <td>-80.131975</td>\n",
       "      <td>40.544915</td>\n",
       "      <td>125.0</td>\n",
       "    </tr>\n",
       "  </tbody>\n",
       "</table>\n",
       "</div>"
      ],
      "text/plain": [
       "   Longitude   Latitude  AvgDailyTrafficCount\n",
       "0 -80.278366  40.468606                  84.0\n",
       "1 -80.162117  40.384598                  95.0\n",
       "2 -80.221205  40.366778                  97.0\n",
       "3 -80.142455  40.622084                 111.0\n",
       "4 -80.131975  40.544915                 125.0"
      ]
     },
     "execution_count": 13,
     "metadata": {},
     "output_type": "execute_result"
    }
   ],
   "source": [
    "import pandas as pd\n",
    "import numpy as np\n",
    "Data1=pd.read_csv(\"PittsburghTrafficCounts.csv\")\n",
    "Data1.head()"
   ]
  },
  {
   "cell_type": "code",
   "execution_count": 14,
   "metadata": {
    "ExecuteTime": {
     "end_time": "2018-04-26T02:20:52.510000Z",
     "start_time": "2018-04-26T02:20:52.460000Z"
    }
   },
   "outputs": [
    {
     "data": {
      "text/html": [
       "<div>\n",
       "<style>\n",
       "    .dataframe thead tr:only-child th {\n",
       "        text-align: right;\n",
       "    }\n",
       "\n",
       "    .dataframe thead th {\n",
       "        text-align: left;\n",
       "    }\n",
       "\n",
       "    .dataframe tbody tr th {\n",
       "        vertical-align: top;\n",
       "    }\n",
       "</style>\n",
       "<table border=\"1\" class=\"dataframe\">\n",
       "  <thead>\n",
       "    <tr style=\"text-align: right;\">\n",
       "      <th></th>\n",
       "      <th>Longitude</th>\n",
       "      <th>Latitude</th>\n",
       "      <th>AvgDailyTrafficCount</th>\n",
       "    </tr>\n",
       "  </thead>\n",
       "  <tbody>\n",
       "    <tr>\n",
       "      <th>0</th>\n",
       "      <td>-80.278366</td>\n",
       "      <td>40.468606</td>\n",
       "      <td>4.430817</td>\n",
       "    </tr>\n",
       "    <tr>\n",
       "      <th>1</th>\n",
       "      <td>-80.162117</td>\n",
       "      <td>40.384598</td>\n",
       "      <td>4.553877</td>\n",
       "    </tr>\n",
       "    <tr>\n",
       "      <th>2</th>\n",
       "      <td>-80.221205</td>\n",
       "      <td>40.366778</td>\n",
       "      <td>4.574711</td>\n",
       "    </tr>\n",
       "    <tr>\n",
       "      <th>3</th>\n",
       "      <td>-80.142455</td>\n",
       "      <td>40.622084</td>\n",
       "      <td>4.709530</td>\n",
       "    </tr>\n",
       "    <tr>\n",
       "      <th>4</th>\n",
       "      <td>-80.131975</td>\n",
       "      <td>40.544915</td>\n",
       "      <td>4.828314</td>\n",
       "    </tr>\n",
       "  </tbody>\n",
       "</table>\n",
       "</div>"
      ],
      "text/plain": [
       "   Longitude   Latitude  AvgDailyTrafficCount\n",
       "0 -80.278366  40.468606              4.430817\n",
       "1 -80.162117  40.384598              4.553877\n",
       "2 -80.221205  40.366778              4.574711\n",
       "3 -80.142455  40.622084              4.709530\n",
       "4 -80.131975  40.544915              4.828314"
      ]
     },
     "execution_count": 14,
     "metadata": {},
     "output_type": "execute_result"
    }
   ],
   "source": [
    "# your code here\n",
    "# taking the logarithm\n",
    "Data1['AvgDailyTrafficCount'] = np.log(Data1['AvgDailyTrafficCount'])\n",
    "Data1.head()"
   ]
  },
  {
   "cell_type": "code",
   "execution_count": 15,
   "metadata": {
    "ExecuteTime": {
     "end_time": "2018-04-26T02:20:52.538000Z",
     "start_time": "2018-04-26T02:20:52.521000Z"
    },
    "collapsed": true
   },
   "outputs": [],
   "source": [
    "x = Data1[['Longitude', 'Latitude']].values\n",
    "y = Data1['AvgDailyTrafficCount'].values"
   ]
  },
  {
   "cell_type": "code",
   "execution_count": 16,
   "metadata": {
    "ExecuteTime": {
     "end_time": "2018-04-26T02:21:12.104000Z",
     "start_time": "2018-04-26T02:20:52.549000Z"
    }
   },
   "outputs": [
    {
     "data": {
      "text/plain": [
       "GaussianProcessRegressor(alpha=1e-10, copy_X_train=True,\n",
       "             kernel=3.16**2 * RBF(length_scale=[0.1, 0.1]) + WhiteKernel(noise_level=1) + 10**2,\n",
       "             n_restarts_optimizer=0, normalize_y=False,\n",
       "             optimizer='fmin_l_bfgs_b', random_state=1)"
      ]
     },
     "execution_count": 16,
     "metadata": {},
     "output_type": "execute_result"
    }
   ],
   "source": [
    "kernel = 10.* RBF(length_scale=(0.1,0.1), length_scale_bounds=(1e-3, 1e3)) \\\n",
    "    + WhiteKernel(noise_level=1., noise_level_bounds=(1e-10, 1e10)) + 100\n",
    "\n",
    "gp = GaussianProcessRegressor(kernel=kernel,random_state=1)\n",
    "\n",
    "gp.fit(x, y)"
   ]
  },
  {
   "cell_type": "code",
   "execution_count": 17,
   "metadata": {
    "ExecuteTime": {
     "end_time": "2018-04-26T02:21:12.119000Z",
     "start_time": "2018-04-26T02:21:12.106000Z"
    }
   },
   "outputs": [
    {
     "name": "stdout",
     "output_type": "stream",
     "text": [
      "-1367.48883089\n",
      "0.65**2 * RBF(length_scale=[0.0326, 0.0398]) + WhiteKernel(noise_level=0.568) + 8.19**2\n"
     ]
    }
   ],
   "source": [
    "print gp.log_marginal_likelihood_value_\n",
    "print gp.kernel_"
   ]
  },
  {
   "cell_type": "code",
   "execution_count": 18,
   "metadata": {
    "ExecuteTime": {
     "end_time": "2018-04-26T02:21:32.225000Z",
     "start_time": "2018-04-26T02:21:12.124000Z"
    },
    "collapsed": true,
    "scrolled": true
   },
   "outputs": [],
   "source": [
    "# Mesh grid plot\n",
    "h = .02  # step size in the mesh\n",
    "\n",
    "kernel = 1.0 * RBF([1.0])\n",
    "gp.fit(x, y)\n",
    "\n",
    "# create a mesh to plot in\n",
    "x_min, x_max = x[:, 0].min() - 0.02, x[:, 0].max() + 0.02\n",
    "y_min, y_max = x[:, 1].min() - 0.02, x[:, 1].max() + 0.02\n",
    "\n",
    "xx, yy = np.meshgrid(np.arange(x_min, x_max, h),\n",
    "                     np.arange(y_min, y_max, h))\n"
   ]
  },
  {
   "cell_type": "code",
   "execution_count": 19,
   "metadata": {
    "ExecuteTime": {
     "end_time": "2018-04-26T02:21:32.712000Z",
     "start_time": "2018-04-26T02:21:32.225000Z"
    }
   },
   "outputs": [
    {
     "data": {
      "image/png": "[encoded data removed]",
      "text/plain": [
       "<matplotlib.figure.Figure at 0x103e64e0>"
      ]
     },
     "metadata": {},
     "output_type": "display_data"
    }
   ],
   "source": [
    "plt.figure(figsize=(5, 5))\n",
    "    # Plot the predicted values. For that, we will assign a color to\n",
    "    # each point in the mesh [x_min, m_max]x[y_min, y_max].\n",
    "Z = gp.predict(np.c_[xx.ravel(), yy.ravel()])\n",
    "# Put the result into a color plot\n",
    "Z = Z.reshape((xx.shape[0], xx.shape[1]))\n",
    "plt.imshow(Z, extent=(x_min, x_max, y_min, y_max), origin=\"lower\")\n",
    "\n",
    "# Plot also the training points\n",
    "plt.scatter(x[:, 0], x[:, 1], c=np.squeeze(y))\n",
    "plt.xlabel('Longitude')\n",
    "plt.ylabel('Latitude')\n",
    "plt.xlim(xx.min(), xx.max())\n",
    "plt.ylim(yy.min(), yy.max())\n",
    "plt.xticks(())\n",
    "plt.yticks(())\n",
    "plt.title(\"%s, LML: %.3f\" %\n",
    "          (\"RBF\", gp.log_marginal_likelihood(gp.kernel_.theta)))\n",
    "\n",
    "plt.tight_layout()\n",
    "plt.show()"
   ]
  },
  {
   "cell_type": "code",
   "execution_count": null,
   "metadata": {
    "collapsed": true
   },
   "outputs": [],
   "source": []
  },
  {
   "cell_type": "code",
   "execution_count": 20,
   "metadata": {
    "ExecuteTime": {
     "end_time": "2018-04-26T02:21:32.896000Z",
     "start_time": "2018-04-26T02:21:32.717000Z"
    },
    "scrolled": true
   },
   "outputs": [
    {
     "data": {
      "text/plain": [
       "array([ 6.82262515,  7.60586966,  7.08757689, ...,  8.91289057,\n",
       "        8.6935152 ,  9.06547031])"
      ]
     },
     "execution_count": 20,
     "metadata": {},
     "output_type": "execute_result"
    }
   ],
   "source": [
    "# (4)\n",
    "y_pred = gp.predict(x)\n",
    "y_pred"
   ]
  },
  {
   "cell_type": "code",
   "execution_count": 21,
   "metadata": {
    "ExecuteTime": {
     "end_time": "2018-04-26T02:21:32.926000Z",
     "start_time": "2018-04-26T02:21:32.900000Z"
    }
   },
   "outputs": [
    {
     "data": {
      "text/html": [
       "<div>\n",
       "<style>\n",
       "    .dataframe thead tr:only-child th {\n",
       "        text-align: right;\n",
       "    }\n",
       "\n",
       "    .dataframe thead th {\n",
       "        text-align: left;\n",
       "    }\n",
       "\n",
       "    .dataframe tbody tr th {\n",
       "        vertical-align: top;\n",
       "    }\n",
       "</style>\n",
       "<table border=\"1\" class=\"dataframe\">\n",
       "  <thead>\n",
       "    <tr style=\"text-align: right;\">\n",
       "      <th></th>\n",
       "      <th>observation</th>\n",
       "      <th>prediction</th>\n",
       "    </tr>\n",
       "  </thead>\n",
       "  <tbody>\n",
       "    <tr>\n",
       "      <th>0</th>\n",
       "      <td>4.430817</td>\n",
       "      <td>6.822625</td>\n",
       "    </tr>\n",
       "    <tr>\n",
       "      <th>1</th>\n",
       "      <td>4.553877</td>\n",
       "      <td>7.605870</td>\n",
       "    </tr>\n",
       "    <tr>\n",
       "      <th>2</th>\n",
       "      <td>4.574711</td>\n",
       "      <td>7.087577</td>\n",
       "    </tr>\n",
       "    <tr>\n",
       "      <th>3</th>\n",
       "      <td>4.709530</td>\n",
       "      <td>7.103782</td>\n",
       "    </tr>\n",
       "    <tr>\n",
       "      <th>4</th>\n",
       "      <td>4.828314</td>\n",
       "      <td>7.071933</td>\n",
       "    </tr>\n",
       "  </tbody>\n",
       "</table>\n",
       "</div>"
      ],
      "text/plain": [
       "   observation  prediction\n",
       "0     4.430817    6.822625\n",
       "1     4.553877    7.605870\n",
       "2     4.574711    7.087577\n",
       "3     4.709530    7.103782\n",
       "4     4.828314    7.071933"
      ]
     },
     "execution_count": 21,
     "metadata": {},
     "output_type": "execute_result"
    }
   ],
   "source": [
    "y = pd.DataFrame(y)\n",
    "y['prediction'] = y_pred\n",
    "y.columns = [['observation', 'prediction']]\n",
    "y.head()"
   ]
  },
  {
   "cell_type": "code",
   "execution_count": 22,
   "metadata": {
    "ExecuteTime": {
     "end_time": "2018-04-26T02:21:32.946000Z",
     "start_time": "2018-04-26T02:21:32.935000Z"
    }
   },
   "outputs": [
    {
     "data": {
      "text/plain": [
       "0.5285996160405659"
      ]
     },
     "execution_count": 22,
     "metadata": {},
     "output_type": "execute_result"
    }
   ],
   "source": [
    "# calculating the standard deviation of the prediction values\n",
    "std = y.prediction.std()\n",
    "std"
   ]
  },
  {
   "cell_type": "code",
   "execution_count": 23,
   "metadata": {
    "ExecuteTime": {
     "end_time": "2018-04-26T02:21:33.075000Z",
     "start_time": "2018-04-26T02:21:32.951000Z"
    }
   },
   "outputs": [
    {
     "name": "stdout",
     "output_type": "stream",
     "text": [
      "11.9282511211% of sensors have average traffic counts more than two standard deviations higher or lower than the model predicts given their spatial location\n"
     ]
    }
   ],
   "source": [
    "# percentage of the sensors that satisfies the criteria\n",
    "count = 0\n",
    "\n",
    "for i in range(len(y.prediction)):\n",
    "    if y.observation[i] < y.prediction[i] - 2*std:\n",
    "        count = count + 1;\n",
    "    elif y.observation[i] > y.prediction[i] + 2*std:\n",
    "        count = count + 1;\n",
    "\n",
    "print \"{}% of sensors have average traffic counts more than two standard deviations higher or lower than the model predicts given their spatial location\".format((float(count)/len(y.observation))*100)"
   ]
  },
  {
   "cell_type": "code",
   "execution_count": null,
   "metadata": {
    "collapsed": true
   },
   "outputs": [],
   "source": []
  },
  {
   "cell_type": "markdown",
   "metadata": {},
   "source": [
    "5) Show a 2-D scatter plot of the sensor locations, with three colors corresponding to observed values a) more than two standard deviations higher than predicted, b) more then two standard deviations lower than predicted, and c) within two standard deviations of the predicted values. (10 pts)"
   ]
  },
  {
   "cell_type": "code",
   "execution_count": 24,
   "metadata": {
    "ExecuteTime": {
     "end_time": "2018-04-26T02:21:33.085000Z",
     "start_time": "2018-04-26T02:21:33.080000Z"
    },
    "collapsed": true
   },
   "outputs": [],
   "source": [
    "# (5)\n",
    "# more than two standard deviations higher than predicted\n",
    "a = Data1[Data1['AvgDailyTrafficCount'] > y.prediction + 2*std]"
   ]
  },
  {
   "cell_type": "code",
   "execution_count": 25,
   "metadata": {
    "ExecuteTime": {
     "end_time": "2018-04-26T02:21:33.111000Z",
     "start_time": "2018-04-26T02:21:33.088000Z"
    },
    "collapsed": true,
    "scrolled": true
   },
   "outputs": [],
   "source": [
    "# more than two standard deviations lower than predicted\n",
    "b = Data1[Data1['AvgDailyTrafficCount'] < y.prediction - 2*std]"
   ]
  },
  {
   "cell_type": "code",
   "execution_count": 26,
   "metadata": {
    "ExecuteTime": {
     "end_time": "2018-04-26T02:21:33.128000Z",
     "start_time": "2018-04-26T02:21:33.113000Z"
    },
    "collapsed": true
   },
   "outputs": [],
   "source": [
    "# within two standard deviations of the predicted values\n",
    "c = Data1[(Data1['AvgDailyTrafficCount']>y.prediction-2*std)\n",
    "          &(Data1['AvgDailyTrafficCount']<y.prediction+2*std)]"
   ]
  },
  {
   "cell_type": "code",
   "execution_count": 27,
   "metadata": {
    "ExecuteTime": {
     "end_time": "2018-04-26T02:21:33.436000Z",
     "start_time": "2018-04-26T02:21:33.131000Z"
    }
   },
   "outputs": [
    {
     "data": {
      "image/png": "[encoded data removed]",
      "text/plain": [
       "<matplotlib.figure.Figure at 0x10550c88>"
      ]
     },
     "metadata": {},
     "output_type": "display_data"
    }
   ],
   "source": [
    "plt.figure(figsize=(8,8))\n",
    "\n",
    "# Plot also the training points\n",
    "plt.scatter(a.iloc[:,0], a.iloc[:,1], c='red')\n",
    "plt.scatter(b.iloc[:,0], b.iloc[:,1], c='purple')\n",
    "plt.scatter(c.iloc[:,0], c.iloc[:,1], c='lightgreen')\n",
    "plt.xlabel('Longitude', fontsize = 16)\n",
    "plt.ylabel('Latitude', fontsize = 16)\n",
    "plt.xlim(xx.min(), xx.max())\n",
    "plt.ylim(yy.min(), yy.max())\n",
    "plt.xticks(())\n",
    "plt.yticks(())\n",
    "\n",
    "L=plt.legend()\n",
    "L.get_texts()[0].set_text('2 std larger')\n",
    "L.get_texts()[1].set_text('2 std lower')\n",
    "L.get_texts()[2].set_text('with 2 std')\n",
    "plt.tight_layout()\n",
    "plt.show()"
   ]
  },
  {
   "cell_type": "code",
   "execution_count": null,
   "metadata": {
    "collapsed": true
   },
   "outputs": [],
   "source": []
  },
  {
   "cell_type": "code",
   "execution_count": null,
   "metadata": {
    "collapsed": true
   },
   "outputs": [],
   "source": []
  },
  {
   "cell_type": "markdown",
   "metadata": {
    "collapsed": true
   },
   "source": [
    "### Question 2: Cluster-based anomaly detection (10 points)\n",
    "\n",
    "Given an unlabeled dataset with two real-valued attributes, we perform cluster-based anomaly detection by running k-means, choosing the number of clusters k automatically using the Schwarz criterion.  Four clusters are formed:\n",
    "\n",
    "A: 100 points, center (0, 0), standard deviation 0.1\n",
    "\n",
    "B: 150 points, center (35, 5), standard deviation 5\n",
    "\n",
    "C: 2 points, center (15, 20), standard deviation 1\n",
    "\n",
    "D: 200 points, center (10, 10), standard deviation 1\n",
    "\n",
    "Given the four points below, which of these points are, and are not, likely to be anomalies?  Choose “Anomaly” or “Not Anomaly”, and provide a brief explanation, for each point. \n",
    "(Hint: your answers should take into account the size and standard deviation of each cluster as well as the distances to cluster centers.)\n",
    "\n",
    "(1, 0)\t\tAnomaly / Not Anomaly\n",
    "\n",
    "\n",
    "(35, 2)\t\tAnomaly / Not Anomaly\n",
    "\n",
    "\n",
    "(15, 19)\tAnomaly / Not Anomaly\n",
    "\n",
    "\n",
    "(10, 11)\tAnomaly / Not Anomaly\n"
   ]
  },
  {
   "cell_type": "markdown",
   "metadata": {},
   "source": [
    "#### Your solution here"
   ]
  },
  {
   "cell_type": "markdown",
   "metadata": {},
   "source": [
    "It would be helpful to clarify the method of calculating the standard deviation of a particular cluster bebore labelling the given data. The flollowing method is used: compute the distance from each point in the given cluster to the cluster center and take the mean of these distances, and hence the standard deviation of the calculated distances, which is treated as the standard deviation of the cluster, can be obtained. Geometrically, to determine whether a point belongs to a cluster is to see whether the point falls within the circle with cluster center as its center and standard deviation as its radius. "
   ]
  },
  {
   "cell_type": "markdown",
   "metadata": {},
   "source": [
    "(1, 0)\tis Anomaly \n",
    "Since the distance from (1,0) to (0,0) is larger than standard deviation 0.1.\n",
    "\n",
    "(35, 2)\tis not Anomaly \n",
    "Since the distance from (35, 2) to (35, 5) is smaller than standard deviation 5.\n",
    "\n",
    "(15, 19) \n",
    "If using the first approach in which the points far from all cluster centers are labeled as anomalies:\n",
    "\n",
    "Since the distance from (15,19) to (15,20) is not larger than standard deviation 1. In addition, given that only two points are within this cluster, we cannot reject any point to be able to join this cluster if the distance from this point to this cluster center (15, 20) is larger than the distances to any other cluster centers. Such new point enlarges the membership of this small cluster and enriches our knowledge about the cluster.\n",
    "\n",
    "If using the approach in which all points in small clusters (# of records <= k) are labeled anomalies:\n",
    "\n",
    "This point is an anomaly since it is closest to the smallest cluster where there are only 2 points.\n",
    "\n",
    "(10, 11) is not Anomaly\n",
    "Since the distance from (10, 11) to (10, 10) is not larger than standard deviation 1."
   ]
  },
  {
   "cell_type": "code",
   "execution_count": null,
   "metadata": {
    "collapsed": true
   },
   "outputs": [],
   "source": []
  },
  {
   "cell_type": "markdown",
   "metadata": {},
   "source": [
    "### Question 3: Anomaly detection (50 points)\n",
    "\n",
    "For this question, use the \"County Health Indicators\" dataset provided to identify the most anomalous counties. Please list the top 5 most anomalous counties computed using each of the following models.  (We recommend that, as a pre-processing step, you drop na values, and make sure all numeric values are treated as floats not strings.)\n",
    "\n",
    "Part 1: Learn a Bayesian network structure using only the six features [\"'\\% Smokers'\",\"'\\% Obese'\",\"'Violent Crime Rate'\",\"'80/20 Income Ratio'\",\"'\\% Children in Poverty'\",\"'Average Daily PM2.5'\"].  Use pd.cut() to discretize each feature into 5 categories: 0,1,2,3,4. \n",
    "\n",
    "(a) Use HillClimbSearch and BicScore to learn the Bayesian network structure (5 pts) \n",
    "\n",
    "(b) Which 5 counties have the lowest (most negative) log-likelihood values? Please show a ranked list of the top counties' names and log-likelihood values. (10 pts)\n",
    "\n",
    "Part 2: Cluster based anomaly detection.  Use all numeric features for this part, and do not discretize. \n",
    "\n",
    "(a) Clustering with k-means. Please use k=3 clusters. Compute each record's distance to the nearest cluster center and report the five counties which have the longest distances. (10 pts)\n",
    "\n",
    "(b) Cluster with Gaussian Mixture. Please repeat (2)a but use log-likelihood for each record (rather than distance) as the measure of anomalousness. (10 pts)\n",
    "\n",
    "Part 3: Choose one more anomaly detection model you prefer and report the top 5 most anomalous counties by the model you chose.  (10 pts)\n",
    "\n",
    "Part 4: Compare and contrast the results from the different models.  Were there some counties that were found to be anomalous in some models and not in others?  Please provide some intuitions on why each county was found to be anomalous. (5 pts)"
   ]
  },
  {
   "cell_type": "code",
   "execution_count": 28,
   "metadata": {
    "ExecuteTime": {
     "end_time": "2018-04-26T02:21:33.535000Z",
     "start_time": "2018-04-26T02:21:33.440000Z"
    },
    "scrolled": true
   },
   "outputs": [
    {
     "data": {
      "text/html": [
       "<div>\n",
       "<style>\n",
       "    .dataframe thead tr:only-child th {\n",
       "        text-align: right;\n",
       "    }\n",
       "\n",
       "    .dataframe thead th {\n",
       "        text-align: left;\n",
       "    }\n",
       "\n",
       "    .dataframe tbody tr th {\n",
       "        vertical-align: top;\n",
       "    }\n",
       "</style>\n",
       "<table border=\"1\" class=\"dataframe\">\n",
       "  <thead>\n",
       "    <tr style=\"text-align: right;\">\n",
       "      <th></th>\n",
       "      <th>County</th>\n",
       "      <th>'\\% Reporting Fair/Poor Health'</th>\n",
       "      <th>'Physically Unhealthy Days Per Month'</th>\n",
       "      <th>'Mentally Unhealthy Days Per Month'</th>\n",
       "      <th>'\\% Low birth weight births'</th>\n",
       "      <th>'\\% Smokers'</th>\n",
       "      <th>'\\% Obese'</th>\n",
       "      <th>'Food Environment Index'</th>\n",
       "      <th>'\\% Physically Inactive'</th>\n",
       "      <th>'\\% With Access To Exercise'</th>\n",
       "      <th>...</th>\n",
       "      <th>'\\% Children in Poverty'</th>\n",
       "      <th>'80/20 Income Ratio'</th>\n",
       "      <th>'\\% Single-Parent Households'</th>\n",
       "      <th>'Association Rate'</th>\n",
       "      <th>'Violent Crime Rate'</th>\n",
       "      <th>'Injury Death Rate'</th>\n",
       "      <th>'Average Daily PM2.5'</th>\n",
       "      <th>'\\% Severe Housing Problems'</th>\n",
       "      <th>'\\% Drive Alone'</th>\n",
       "      <th>'\\% Long Commute - Drives Alone'</th>\n",
       "    </tr>\n",
       "  </thead>\n",
       "  <tbody>\n",
       "    <tr>\n",
       "      <th>0</th>\n",
       "      <td>Autauga, Alabama</td>\n",
       "      <td>19</td>\n",
       "      <td>4.4</td>\n",
       "      <td>4.3</td>\n",
       "      <td>9</td>\n",
       "      <td>19</td>\n",
       "      <td>31</td>\n",
       "      <td>7.1</td>\n",
       "      <td>29</td>\n",
       "      <td>71</td>\n",
       "      <td>...</td>\n",
       "      <td>18</td>\n",
       "      <td>4.3</td>\n",
       "      <td>27</td>\n",
       "      <td>13.8</td>\n",
       "      <td>254</td>\n",
       "      <td>76</td>\n",
       "      <td>12.9</td>\n",
       "      <td>14</td>\n",
       "      <td>89</td>\n",
       "      <td>42</td>\n",
       "    </tr>\n",
       "    <tr>\n",
       "      <th>1</th>\n",
       "      <td>Baldwin, Alabama</td>\n",
       "      <td>16</td>\n",
       "      <td>4.1</td>\n",
       "      <td>4.2</td>\n",
       "      <td>9</td>\n",
       "      <td>19</td>\n",
       "      <td>27</td>\n",
       "      <td>7.6</td>\n",
       "      <td>25</td>\n",
       "      <td>72</td>\n",
       "      <td>...</td>\n",
       "      <td>20</td>\n",
       "      <td>4.5</td>\n",
       "      <td>28</td>\n",
       "      <td>12.0</td>\n",
       "      <td>221</td>\n",
       "      <td>70</td>\n",
       "      <td>13.1</td>\n",
       "      <td>15</td>\n",
       "      <td>84</td>\n",
       "      <td>37</td>\n",
       "    </tr>\n",
       "    <tr>\n",
       "      <th>2</th>\n",
       "      <td>Barbour, Alabama</td>\n",
       "      <td>26</td>\n",
       "      <td>4.9</td>\n",
       "      <td>4.7</td>\n",
       "      <td>12</td>\n",
       "      <td>21</td>\n",
       "      <td>41</td>\n",
       "      <td>5.1</td>\n",
       "      <td>33</td>\n",
       "      <td>45</td>\n",
       "      <td>...</td>\n",
       "      <td>38</td>\n",
       "      <td>5.3</td>\n",
       "      <td>54</td>\n",
       "      <td>8.1</td>\n",
       "      <td>147</td>\n",
       "      <td>64</td>\n",
       "      <td>12.6</td>\n",
       "      <td>18</td>\n",
       "      <td>84</td>\n",
       "      <td>35</td>\n",
       "    </tr>\n",
       "    <tr>\n",
       "      <th>3</th>\n",
       "      <td>Bibb, Alabama</td>\n",
       "      <td>22</td>\n",
       "      <td>4.8</td>\n",
       "      <td>4.6</td>\n",
       "      <td>12</td>\n",
       "      <td>21</td>\n",
       "      <td>40</td>\n",
       "      <td>7.4</td>\n",
       "      <td>33</td>\n",
       "      <td>33</td>\n",
       "      <td>...</td>\n",
       "      <td>27</td>\n",
       "      <td>4.3</td>\n",
       "      <td>32</td>\n",
       "      <td>9.8</td>\n",
       "      <td>236</td>\n",
       "      <td>75</td>\n",
       "      <td>12.9</td>\n",
       "      <td>13</td>\n",
       "      <td>84</td>\n",
       "      <td>46</td>\n",
       "    </tr>\n",
       "    <tr>\n",
       "      <th>4</th>\n",
       "      <td>Blount, Alabama</td>\n",
       "      <td>21</td>\n",
       "      <td>4.6</td>\n",
       "      <td>4.5</td>\n",
       "      <td>7</td>\n",
       "      <td>19</td>\n",
       "      <td>32</td>\n",
       "      <td>8.3</td>\n",
       "      <td>29</td>\n",
       "      <td>26</td>\n",
       "      <td>...</td>\n",
       "      <td>24</td>\n",
       "      <td>4.1</td>\n",
       "      <td>28</td>\n",
       "      <td>8.5</td>\n",
       "      <td>219</td>\n",
       "      <td>89</td>\n",
       "      <td>12.7</td>\n",
       "      <td>12</td>\n",
       "      <td>85</td>\n",
       "      <td>59</td>\n",
       "    </tr>\n",
       "  </tbody>\n",
       "</table>\n",
       "<p>5 rows × 31 columns</p>\n",
       "</div>"
      ],
      "text/plain": [
       "             County '\\% Reporting Fair/Poor Health'  \\\n",
       "0  Autauga, Alabama                              19   \n",
       "1  Baldwin, Alabama                              16   \n",
       "2  Barbour, Alabama                              26   \n",
       "3     Bibb, Alabama                              22   \n",
       "4   Blount, Alabama                              21   \n",
       "\n",
       "  'Physically Unhealthy Days Per Month' 'Mentally Unhealthy Days Per Month'  \\\n",
       "0                                   4.4                                 4.3   \n",
       "1                                   4.1                                 4.2   \n",
       "2                                   4.9                                 4.7   \n",
       "3                                   4.8                                 4.6   \n",
       "4                                   4.6                                 4.5   \n",
       "\n",
       "  '\\% Low birth weight births' '\\% Smokers'  '\\% Obese'  \\\n",
       "0                            9           19          31   \n",
       "1                            9           19          27   \n",
       "2                           12           21          41   \n",
       "3                           12           21          40   \n",
       "4                            7           19          32   \n",
       "\n",
       "   'Food Environment Index'  '\\% Physically Inactive'  \\\n",
       "0                       7.1                        29   \n",
       "1                       7.6                        25   \n",
       "2                       5.1                        33   \n",
       "3                       7.4                        33   \n",
       "4                       8.3                        29   \n",
       "\n",
       "  '\\% With Access To Exercise'               ...                 \\\n",
       "0                           71               ...                  \n",
       "1                           72               ...                  \n",
       "2                           45               ...                  \n",
       "3                           33               ...                  \n",
       "4                           26               ...                  \n",
       "\n",
       "  '\\% Children in Poverty' '80/20 Income Ratio' '\\% Single-Parent Households'  \\\n",
       "0                       18                  4.3                            27   \n",
       "1                       20                  4.5                            28   \n",
       "2                       38                  5.3                            54   \n",
       "3                       27                  4.3                            32   \n",
       "4                       24                  4.1                            28   \n",
       "\n",
       "  'Association Rate' 'Violent Crime Rate' 'Injury Death Rate'  \\\n",
       "0               13.8                  254                  76   \n",
       "1               12.0                  221                  70   \n",
       "2                8.1                  147                  64   \n",
       "3                9.8                  236                  75   \n",
       "4                8.5                  219                  89   \n",
       "\n",
       "  'Average Daily PM2.5' '\\% Severe Housing Problems' '\\% Drive Alone'  \\\n",
       "0                  12.9                           14               89   \n",
       "1                  13.1                           15               84   \n",
       "2                  12.6                           18               84   \n",
       "3                  12.9                           13               84   \n",
       "4                  12.7                           12               85   \n",
       "\n",
       "  '\\% Long Commute - Drives Alone'  \n",
       "0                               42  \n",
       "1                               37  \n",
       "2                               35  \n",
       "3                               46  \n",
       "4                               59  \n",
       "\n",
       "[5 rows x 31 columns]"
      ]
     },
     "execution_count": 28,
     "metadata": {},
     "output_type": "execute_result"
    }
   ],
   "source": [
    "Data2=pd.read_csv(\"2016CountyHealthIndicators.csv\")\n",
    "Data2.head()"
   ]
  },
  {
   "cell_type": "code",
   "execution_count": 29,
   "metadata": {
    "ExecuteTime": {
     "end_time": "2018-04-26T02:21:33.550000Z",
     "start_time": "2018-04-26T02:21:33.536000Z"
    }
   },
   "outputs": [
    {
     "data": {
      "text/plain": [
       "(3141, 31)"
      ]
     },
     "execution_count": 29,
     "metadata": {},
     "output_type": "execute_result"
    }
   ],
   "source": [
    "Data2.shape"
   ]
  },
  {
   "cell_type": "code",
   "execution_count": 30,
   "metadata": {
    "ExecuteTime": {
     "end_time": "2018-04-26T02:21:33.596000Z",
     "start_time": "2018-04-26T02:21:33.555000Z"
    }
   },
   "outputs": [
    {
     "data": {
      "text/html": [
       "<div>\n",
       "<style>\n",
       "    .dataframe thead tr:only-child th {\n",
       "        text-align: right;\n",
       "    }\n",
       "\n",
       "    .dataframe thead th {\n",
       "        text-align: left;\n",
       "    }\n",
       "\n",
       "    .dataframe tbody tr th {\n",
       "        vertical-align: top;\n",
       "    }\n",
       "</style>\n",
       "<table border=\"1\" class=\"dataframe\">\n",
       "  <thead>\n",
       "    <tr style=\"text-align: right;\">\n",
       "      <th></th>\n",
       "      <th>'\\% Smokers'</th>\n",
       "      <th>'\\% Obese'</th>\n",
       "      <th>'Violent Crime Rate'</th>\n",
       "      <th>'80/20 Income Ratio'</th>\n",
       "      <th>'\\% Children in Poverty'</th>\n",
       "      <th>'Average Daily PM2.5'</th>\n",
       "    </tr>\n",
       "  </thead>\n",
       "  <tbody>\n",
       "    <tr>\n",
       "      <th>0</th>\n",
       "      <td>19</td>\n",
       "      <td>31</td>\n",
       "      <td>254</td>\n",
       "      <td>4.3</td>\n",
       "      <td>18</td>\n",
       "      <td>12.9</td>\n",
       "    </tr>\n",
       "    <tr>\n",
       "      <th>1</th>\n",
       "      <td>19</td>\n",
       "      <td>27</td>\n",
       "      <td>221</td>\n",
       "      <td>4.5</td>\n",
       "      <td>20</td>\n",
       "      <td>13.1</td>\n",
       "    </tr>\n",
       "    <tr>\n",
       "      <th>2</th>\n",
       "      <td>21</td>\n",
       "      <td>41</td>\n",
       "      <td>147</td>\n",
       "      <td>5.3</td>\n",
       "      <td>38</td>\n",
       "      <td>12.6</td>\n",
       "    </tr>\n",
       "    <tr>\n",
       "      <th>3</th>\n",
       "      <td>21</td>\n",
       "      <td>40</td>\n",
       "      <td>236</td>\n",
       "      <td>4.3</td>\n",
       "      <td>27</td>\n",
       "      <td>12.9</td>\n",
       "    </tr>\n",
       "    <tr>\n",
       "      <th>4</th>\n",
       "      <td>19</td>\n",
       "      <td>32</td>\n",
       "      <td>219</td>\n",
       "      <td>4.1</td>\n",
       "      <td>24</td>\n",
       "      <td>12.7</td>\n",
       "    </tr>\n",
       "  </tbody>\n",
       "</table>\n",
       "</div>"
      ],
      "text/plain": [
       "  '\\% Smokers'  '\\% Obese' 'Violent Crime Rate' '80/20 Income Ratio'  \\\n",
       "0           19          31                  254                  4.3   \n",
       "1           19          27                  221                  4.5   \n",
       "2           21          41                  147                  5.3   \n",
       "3           21          40                  236                  4.3   \n",
       "4           19          32                  219                  4.1   \n",
       "\n",
       "  '\\% Children in Poverty' 'Average Daily PM2.5'  \n",
       "0                       18                  12.9  \n",
       "1                       20                  13.1  \n",
       "2                       38                  12.6  \n",
       "3                       27                  12.9  \n",
       "4                       24                  12.7  "
      ]
     },
     "execution_count": 30,
     "metadata": {},
     "output_type": "execute_result"
    }
   ],
   "source": [
    "# your code here\n",
    "# Part 1\n",
    "# selecting the six variables\n",
    "short = Data2[ [\"'\\% Smokers'\",\"'\\% Obese'\",\"'Violent Crime Rate'\",\"'80/20 Income Ratio'\",\n",
    "                \"'\\% Children in Poverty'\",\"'Average Daily PM2.5'\"]]\n",
    "short.head()"
   ]
  },
  {
   "cell_type": "code",
   "execution_count": 31,
   "metadata": {
    "ExecuteTime": {
     "end_time": "2018-04-26T02:21:33.616000Z",
     "start_time": "2018-04-26T02:21:33.601000Z"
    }
   },
   "outputs": [
    {
     "data": {
      "text/plain": [
       "'\\% Smokers'                object\n",
       "'\\% Obese'                   int64\n",
       "'Violent Crime Rate'        object\n",
       "'80/20 Income Ratio'        object\n",
       "'\\% Children in Poverty'    object\n",
       "'Average Daily PM2.5'       object\n",
       "dtype: object"
      ]
     },
     "execution_count": 31,
     "metadata": {},
     "output_type": "execute_result"
    }
   ],
   "source": [
    "# data pre-processing: converting all numerical values to float data type\n",
    "short.dtypes"
   ]
  },
  {
   "cell_type": "code",
   "execution_count": 32,
   "metadata": {
    "ExecuteTime": {
     "end_time": "2018-04-26T02:21:33.673000Z",
     "start_time": "2018-04-26T02:21:33.622000Z"
    },
    "scrolled": false
   },
   "outputs": [
    {
     "name": "stderr",
     "output_type": "stream",
     "text": [
      "D:\\ana\\lib\\site-packages\\ipykernel_launcher.py:1: FutureWarning: convert_objects is deprecated.  Use the data-type specific converters pd.to_datetime, pd.to_timedelta and pd.to_numeric.\n",
      "  \"\"\"Entry point for launching an IPython kernel.\n"
     ]
    },
    {
     "data": {
      "text/plain": [
       "'\\% Smokers'                float64\n",
       "'\\% Obese'                  float64\n",
       "'Violent Crime Rate'        float64\n",
       "'80/20 Income Ratio'        float64\n",
       "'\\% Children in Poverty'    float64\n",
       "'Average Daily PM2.5'       float64\n",
       "dtype: object"
      ]
     },
     "execution_count": 32,
     "metadata": {},
     "output_type": "execute_result"
    }
   ],
   "source": [
    "short = short.convert_objects(convert_numeric=True)\n",
    "short[\"'\\% Obese'\"] = short[\"'\\% Obese'\"].astype(\"float64\")\n",
    "short.dtypes"
   ]
  },
  {
   "cell_type": "code",
   "execution_count": 33,
   "metadata": {
    "ExecuteTime": {
     "end_time": "2018-04-26T02:21:33.688000Z",
     "start_time": "2018-04-26T02:21:33.678000Z"
    }
   },
   "outputs": [
    {
     "data": {
      "text/plain": [
       "False"
      ]
     },
     "execution_count": 33,
     "metadata": {},
     "output_type": "execute_result"
    }
   ],
   "source": [
    "# check whether there is infinite values in the dataframe\n",
    "np.isfinite(short.values).all()"
   ]
  },
  {
   "cell_type": "code",
   "execution_count": 34,
   "metadata": {
    "ExecuteTime": {
     "end_time": "2018-04-26T02:21:33.708000Z",
     "start_time": "2018-04-26T02:21:33.694000Z"
    }
   },
   "outputs": [
    {
     "data": {
      "text/plain": [
       "'\\% Smokers'                 True\n",
       "'\\% Obese'                  False\n",
       "'Violent Crime Rate'         True\n",
       "'80/20 Income Ratio'         True\n",
       "'\\% Children in Poverty'     True\n",
       "'Average Daily PM2.5'        True\n",
       "dtype: bool"
      ]
     },
     "execution_count": 34,
     "metadata": {},
     "output_type": "execute_result"
    }
   ],
   "source": [
    "# to see whether there are na values\n",
    "short.isnull().any()"
   ]
  },
  {
   "cell_type": "code",
   "execution_count": 35,
   "metadata": {
    "ExecuteTime": {
     "end_time": "2018-04-26T02:21:33.726000Z",
     "start_time": "2018-04-26T02:21:33.714000Z"
    },
    "collapsed": true
   },
   "outputs": [],
   "source": [
    "# dropping na values\n",
    "short = short.dropna(subset = [\"'\\% Smokers'\", \"'Violent Crime Rate'\", \"'80/20 Income Ratio'\", \"'\\% Children in Poverty'\",\n",
    "                       \"'Average Daily PM2.5'\"])"
   ]
  },
  {
   "cell_type": "code",
   "execution_count": 36,
   "metadata": {
    "ExecuteTime": {
     "end_time": "2018-04-26T02:21:33.747000Z",
     "start_time": "2018-04-26T02:21:33.732000Z"
    },
    "scrolled": true
   },
   "outputs": [
    {
     "data": {
      "text/plain": [
       "'\\% Smokers'                False\n",
       "'\\% Obese'                  False\n",
       "'Violent Crime Rate'        False\n",
       "'80/20 Income Ratio'        False\n",
       "'\\% Children in Poverty'    False\n",
       "'Average Daily PM2.5'       False\n",
       "dtype: bool"
      ]
     },
     "execution_count": 36,
     "metadata": {},
     "output_type": "execute_result"
    }
   ],
   "source": [
    "short.isnull().any()"
   ]
  },
  {
   "cell_type": "code",
   "execution_count": 37,
   "metadata": {
    "ExecuteTime": {
     "end_time": "2018-04-26T02:21:33.855000Z",
     "start_time": "2018-04-26T02:21:33.752000Z"
    },
    "scrolled": true
   },
   "outputs": [
    {
     "data": {
      "text/html": [
       "<div>\n",
       "<style>\n",
       "    .dataframe thead tr:only-child th {\n",
       "        text-align: right;\n",
       "    }\n",
       "\n",
       "    .dataframe thead th {\n",
       "        text-align: left;\n",
       "    }\n",
       "\n",
       "    .dataframe tbody tr th {\n",
       "        vertical-align: top;\n",
       "    }\n",
       "</style>\n",
       "<table border=\"1\" class=\"dataframe\">\n",
       "  <thead>\n",
       "    <tr style=\"text-align: right;\">\n",
       "      <th></th>\n",
       "      <th>'\\% Smokers'</th>\n",
       "      <th>'\\% Obese'</th>\n",
       "      <th>'Violent Crime Rate'</th>\n",
       "      <th>'80/20 Income Ratio'</th>\n",
       "      <th>'\\% Children in Poverty'</th>\n",
       "      <th>'Average Daily PM2.5'</th>\n",
       "    </tr>\n",
       "  </thead>\n",
       "  <tbody>\n",
       "    <tr>\n",
       "      <th>0</th>\n",
       "      <td>1</td>\n",
       "      <td>2</td>\n",
       "      <td>0</td>\n",
       "      <td>1</td>\n",
       "      <td>1</td>\n",
       "      <td>3</td>\n",
       "    </tr>\n",
       "    <tr>\n",
       "      <th>1</th>\n",
       "      <td>1</td>\n",
       "      <td>2</td>\n",
       "      <td>0</td>\n",
       "      <td>1</td>\n",
       "      <td>1</td>\n",
       "      <td>3</td>\n",
       "    </tr>\n",
       "    <tr>\n",
       "      <th>2</th>\n",
       "      <td>2</td>\n",
       "      <td>4</td>\n",
       "      <td>0</td>\n",
       "      <td>2</td>\n",
       "      <td>3</td>\n",
       "      <td>3</td>\n",
       "    </tr>\n",
       "    <tr>\n",
       "      <th>3</th>\n",
       "      <td>2</td>\n",
       "      <td>4</td>\n",
       "      <td>0</td>\n",
       "      <td>1</td>\n",
       "      <td>2</td>\n",
       "      <td>3</td>\n",
       "    </tr>\n",
       "    <tr>\n",
       "      <th>4</th>\n",
       "      <td>1</td>\n",
       "      <td>2</td>\n",
       "      <td>0</td>\n",
       "      <td>1</td>\n",
       "      <td>1</td>\n",
       "      <td>3</td>\n",
       "    </tr>\n",
       "  </tbody>\n",
       "</table>\n",
       "</div>"
      ],
      "text/plain": [
       "  '\\% Smokers' '\\% Obese' 'Violent Crime Rate' '80/20 Income Ratio'  \\\n",
       "0            1          2                    0                    1   \n",
       "1            1          2                    0                    1   \n",
       "2            2          4                    0                    2   \n",
       "3            2          4                    0                    1   \n",
       "4            1          2                    0                    1   \n",
       "\n",
       "  '\\% Children in Poverty' 'Average Daily PM2.5'  \n",
       "0                        1                     3  \n",
       "1                        1                     3  \n",
       "2                        3                     3  \n",
       "3                        2                     3  \n",
       "4                        1                     3  "
      ]
     },
     "execution_count": 37,
     "metadata": {},
     "output_type": "execute_result"
    }
   ],
   "source": [
    "# discretizing the columns\n",
    "for i in short.columns:\n",
    "    short[i] = pd.cut(short[i], 5, labels = [0,1,2,3,4])\n",
    "\n",
    "short.head()"
   ]
  },
  {
   "cell_type": "code",
   "execution_count": 38,
   "metadata": {
    "ExecuteTime": {
     "end_time": "2018-04-26T02:21:33.867000Z",
     "start_time": "2018-04-26T02:21:33.859000Z"
    }
   },
   "outputs": [
    {
     "data": {
      "text/plain": [
       "'\\% Smokers'                category\n",
       "'\\% Obese'                  category\n",
       "'Violent Crime Rate'        category\n",
       "'80/20 Income Ratio'        category\n",
       "'\\% Children in Poverty'    category\n",
       "'Average Daily PM2.5'       category\n",
       "dtype: object"
      ]
     },
     "execution_count": 38,
     "metadata": {},
     "output_type": "execute_result"
    }
   ],
   "source": [
    "short.dtypes"
   ]
  },
  {
   "cell_type": "code",
   "execution_count": 39,
   "metadata": {
    "ExecuteTime": {
     "end_time": "2018-04-26T02:21:33.883000Z",
     "start_time": "2018-04-26T02:21:33.871000Z"
    }
   },
   "outputs": [
    {
     "data": {
      "text/plain": [
       "'\\% Smokers'                int64\n",
       "'\\% Obese'                  int64\n",
       "'Violent Crime Rate'        int64\n",
       "'80/20 Income Ratio'        int64\n",
       "'\\% Children in Poverty'    int64\n",
       "'Average Daily PM2.5'       int64\n",
       "dtype: object"
      ]
     },
     "execution_count": 39,
     "metadata": {},
     "output_type": "execute_result"
    }
   ],
   "source": [
    "for i in short.columns:\n",
    "    short[i] = short[i].astype(\"int64\")\n",
    "\n",
    "short.dtypes"
   ]
  },
  {
   "cell_type": "code",
   "execution_count": 40,
   "metadata": {
    "ExecuteTime": {
     "end_time": "2018-04-26T02:21:34.340000Z",
     "start_time": "2018-04-26T02:21:33.886000Z"
    },
    "collapsed": true
   },
   "outputs": [],
   "source": [
    "from pgmpy.estimators import HillClimbSearch\n",
    "from pgmpy.estimators import BicScore"
   ]
  },
  {
   "cell_type": "code",
   "execution_count": 41,
   "metadata": {
    "ExecuteTime": {
     "end_time": "2018-04-26T02:21:37.464000Z",
     "start_time": "2018-04-26T02:21:34.346000Z"
    },
    "scrolled": true
   },
   "outputs": [
    {
     "name": "stdout",
     "output_type": "stream",
     "text": [
      "[(\"'\\\\% Smokers'\", \"'Average Daily PM2.5'\"), (\"'\\\\% Smokers'\", \"'\\\\% Obese'\"), (\"'\\\\% Children in Poverty'\", \"'Violent Crime Rate'\"), (\"'\\\\% Children in Poverty'\", \"'80/20 Income Ratio'\"), (\"'\\\\% Children in Poverty'\", \"'\\\\% Smokers'\")]\n"
     ]
    }
   ],
   "source": [
    "hc = HillClimbSearch(short, scoring_method=BicScore(short))\n",
    "best_model = hc.estimate()\n",
    "print(best_model.edges())"
   ]
  },
  {
   "cell_type": "code",
   "execution_count": 42,
   "metadata": {
    "ExecuteTime": {
     "end_time": "2018-04-26T02:21:37.523000Z",
     "start_time": "2018-04-26T02:21:37.467000Z"
    },
    "scrolled": true
   },
   "outputs": [
    {
     "name": "stdout",
     "output_type": "stream",
     "text": [
      "CPD of '80/20 Income Ratio':\n",
      "+--------------------------+-----------------------------+-----------------------------+-----------------------------+-----------------------------+-----------------------------+\n",
      "| '\\% Children in Poverty' | '\\% Children in Poverty'(0) | '\\% Children in Poverty'(1) | '\\% Children in Poverty'(2) | '\\% Children in Poverty'(3) | '\\% Children in Poverty'(4) |\n",
      "+--------------------------+-----------------------------+-----------------------------+-----------------------------+-----------------------------+-----------------------------+\n",
      "| '80/20 Income Ratio'(0)  | 0.416909620991              | 0.182634730539              | 0.0479233226837             | 0.016835016835              | 0.0                         |\n",
      "+--------------------------+-----------------------------+-----------------------------+-----------------------------+-----------------------------+-----------------------------+\n",
      "| '80/20 Income Ratio'(1)  | 0.530612244898              | 0.74625748503               | 0.724174653887              | 0.373737373737              | 0.186046511628              |\n",
      "+--------------------------+-----------------------------+-----------------------------+-----------------------------+-----------------------------+-----------------------------+\n",
      "| '80/20 Income Ratio'(2)  | 0.0495626822157             | 0.060628742515              | 0.205537806177              | 0.535353535354              | 0.558139534884              |\n",
      "+--------------------------+-----------------------------+-----------------------------+-----------------------------+-----------------------------+-----------------------------+\n",
      "| '80/20 Income Ratio'(3)  | 0.00291545189504            | 0.00673652694611            | 0.0202342917998             | 0.0707070707071             | 0.255813953488              |\n",
      "+--------------------------+-----------------------------+-----------------------------+-----------------------------+-----------------------------+-----------------------------+\n",
      "| '80/20 Income Ratio'(4)  | 0.0                         | 0.00374251497006            | 0.00212992545261            | 0.003367003367              | 0.0                         |\n",
      "+--------------------------+-----------------------------+-----------------------------+-----------------------------+-----------------------------+-----------------------------+\n",
      "CPD of 'Average Daily PM2.5':\n",
      "+--------------------------+-----------------+-----------------+-----------------+-----------------+-----------------+\n",
      "| '\\% Smokers'             | '\\% Smokers'(0) | '\\% Smokers'(1) | '\\% Smokers'(2) | '\\% Smokers'(3) | '\\% Smokers'(4) |\n",
      "+--------------------------+-----------------+-----------------+-----------------+-----------------+-----------------+\n",
      "| 'Average Daily PM2.5'(0) | 0.169811320755  | 0.0501968503937 | 0.0082304526749 | 0.0             | 0.0             |\n",
      "+--------------------------+-----------------+-----------------+-----------------+-----------------+-----------------+\n",
      "| 'Average Daily PM2.5'(1) | 0.232704402516  | 0.200787401575  | 0.109739368999  | 0.0606060606061 | 0.8             |\n",
      "+--------------------------+-----------------+-----------------+-----------------+-----------------+-----------------+\n",
      "| 'Average Daily PM2.5'(2) | 0.295597484277  | 0.294783464567  | 0.20987654321   | 0.212121212121  | 0.2             |\n",
      "+--------------------------+-----------------+-----------------+-----------------+-----------------+-----------------+\n",
      "| 'Average Daily PM2.5'(3) | 0.25786163522   | 0.374507874016  | 0.437585733882  | 0.666666666667  | 0.0             |\n",
      "+--------------------------+-----------------+-----------------+-----------------+-----------------+-----------------+\n",
      "| 'Average Daily PM2.5'(4) | 0.0440251572327 | 0.0797244094488 | 0.234567901235  | 0.0606060606061 | 0.0             |\n",
      "+--------------------------+-----------------+-----------------+-----------------+-----------------+-----------------+\n",
      "CPD of 'Violent Crime Rate':\n",
      "+--------------------------+-----------------------------+-----------------------------+-----------------------------+-----------------------------+-----------------------------+\n",
      "| '\\% Children in Poverty' | '\\% Children in Poverty'(0) | '\\% Children in Poverty'(1) | '\\% Children in Poverty'(2) | '\\% Children in Poverty'(3) | '\\% Children in Poverty'(4) |\n",
      "+--------------------------+-----------------------------+-----------------------------+-----------------------------+-----------------------------+-----------------------------+\n",
      "| 'Violent Crime Rate'(0)  | 0.959183673469              | 0.866766467066              | 0.733759318424              | 0.622895622896              | 0.46511627907               |\n",
      "+--------------------------+-----------------------------+-----------------------------+-----------------------------+-----------------------------+-----------------------------+\n",
      "| 'Violent Crime Rate'(1)  | 0.0379008746356             | 0.125                       | 0.23642172524               | 0.306397306397              | 0.255813953488              |\n",
      "+--------------------------+-----------------------------+-----------------------------+-----------------------------+-----------------------------+-----------------------------+\n",
      "| 'Violent Crime Rate'(2)  | 0.00291545189504            | 0.00823353293413            | 0.0223642172524             | 0.0538720538721             | 0.209302325581              |\n",
      "+--------------------------+-----------------------------+-----------------------------+-----------------------------+-----------------------------+-----------------------------+\n",
      "| 'Violent Crime Rate'(3)  | 0.0                         | 0.0                         | 0.00745473908413            | 0.010101010101              | 0.0697674418605             |\n",
      "+--------------------------+-----------------------------+-----------------------------+-----------------------------+-----------------------------+-----------------------------+\n",
      "| 'Violent Crime Rate'(4)  | 0.0                         | 0.0                         | 0.0                         | 0.00673400673401            | 0.0                         |\n",
      "+--------------------------+-----------------------------+-----------------------------+-----------------------------+-----------------------------+-----------------------------+\n",
      "CPD of '\\% Children in Poverty':\n",
      "+-----------------------------+-----------+\n",
      "| '\\% Children in Poverty'(0) | 0.115957  |\n",
      "+-----------------------------+-----------+\n",
      "| '\\% Children in Poverty'(1) | 0.451657  |\n",
      "+-----------------------------+-----------+\n",
      "| '\\% Children in Poverty'(2) | 0.317444  |\n",
      "+-----------------------------+-----------+\n",
      "| '\\% Children in Poverty'(3) | 0.100406  |\n",
      "+-----------------------------+-----------+\n",
      "| '\\% Children in Poverty'(4) | 0.0145368 |\n",
      "+-----------------------------+-----------+\n",
      "CPD of '\\% Obese':\n",
      "+---------------+-----------------+------------------+------------------+-----------------+-----------------+\n",
      "| '\\% Smokers'  | '\\% Smokers'(0) | '\\% Smokers'(1)  | '\\% Smokers'(2)  | '\\% Smokers'(3) | '\\% Smokers'(4) |\n",
      "+---------------+-----------------+------------------+------------------+-----------------+-----------------+\n",
      "| '\\% Obese'(0) | 0.0754716981132 | 0.00639763779528 | 0.0              | 0.0             | 0.0             |\n",
      "+---------------+-----------------+------------------+------------------+-----------------+-----------------+\n",
      "| '\\% Obese'(1) | 0.503144654088  | 0.0969488188976  | 0.00548696844993 | 0.0             | 0.0             |\n",
      "+---------------+-----------------+------------------+------------------+-----------------+-----------------+\n",
      "| '\\% Obese'(2) | 0.389937106918  | 0.651082677165   | 0.278463648834   | 0.0606060606061 | 0.0             |\n",
      "+---------------+-----------------+------------------+------------------+-----------------+-----------------+\n",
      "| '\\% Obese'(3) | 0.0314465408805 | 0.242125984252   | 0.650205761317   | 0.666666666667  | 0.4             |\n",
      "+---------------+-----------------+------------------+------------------+-----------------+-----------------+\n",
      "| '\\% Obese'(4) | 0.0             | 0.00344488188976 | 0.0658436213992  | 0.272727272727  | 0.6             |\n",
      "+---------------+-----------------+------------------+------------------+-----------------+-----------------+\n",
      "CPD of '\\% Smokers':\n",
      "+--------------------------+-----------------------------+-----------------------------+-----------------------------+-----------------------------+-----------------------------+\n",
      "| '\\% Children in Poverty' | '\\% Children in Poverty'(0) | '\\% Children in Poverty'(1) | '\\% Children in Poverty'(2) | '\\% Children in Poverty'(3) | '\\% Children in Poverty'(4) |\n",
      "+--------------------------+-----------------------------+-----------------------------+-----------------------------+-----------------------------+-----------------------------+\n",
      "| '\\% Smokers'(0)          | 0.218658892128              | 0.0508982035928             | 0.013844515442              | 0.010101010101              | 0.0                         |\n",
      "+--------------------------+-----------------------------+-----------------------------+-----------------------------+-----------------------------+-----------------------------+\n",
      "| '\\% Smokers'(1)          | 0.769679300292              | 0.839820359281              | 0.568690095847              | 0.350168350168              | 0.186046511628              |\n",
      "+--------------------------+-----------------------------+-----------------------------+-----------------------------+-----------------------------+-----------------------------+\n",
      "| '\\% Smokers'(2)          | 0.0116618075802             | 0.109281437126              | 0.41214057508               | 0.575757575758              | 0.488372093023              |\n",
      "+--------------------------+-----------------------------+-----------------------------+-----------------------------+-----------------------------+-----------------------------+\n",
      "| '\\% Smokers'(3)          | 0.0                         | 0.0                         | 0.00532481363152            | 0.0538720538721             | 0.279069767442              |\n",
      "+--------------------------+-----------------------------+-----------------------------+-----------------------------+-----------------------------+-----------------------------+\n",
      "| '\\% Smokers'(4)          | 0.0                         | 0.0                         | 0.0                         | 0.010101010101              | 0.046511627907              |\n",
      "+--------------------------+-----------------------------+-----------------------------+-----------------------------+-----------------------------+-----------------------------+\n"
     ]
    }
   ],
   "source": [
    "from pgmpy.models import BayesianModel\n",
    "from pgmpy.estimators import MaximumLikelihoodEstimator\n",
    "\n",
    "model = BayesianModel(best_model.edges())\n",
    "model.fit(short, estimator=MaximumLikelihoodEstimator)\n",
    "for cpd in model.get_cpds():\n",
    "    print(\"CPD of {variable}:\".format(variable=cpd.variable))\n",
    "    print(cpd)"
   ]
  },
  {
   "cell_type": "code",
   "execution_count": 43,
   "metadata": {
    "ExecuteTime": {
     "end_time": "2018-04-26T02:21:37.536000Z",
     "start_time": "2018-04-26T02:21:37.526000Z"
    },
    "collapsed": true
   },
   "outputs": [],
   "source": [
    "# Log-likelihood of data record x given model\n",
    "def LL(x,model,verbose=False):\n",
    "    loglike = 0\n",
    "    for cpd in model.get_cpds():\n",
    "        temp_cpd = cpd.copy()\n",
    "        thevariable = temp_cpd.variable\n",
    "        theparents = model.predecessors(thevariable)\n",
    "        for parent in theparents:\n",
    "            temp_cpd.reduce([(parent, x[parent])])\n",
    "        theprob = temp_cpd.get_values()[x[thevariable],0]\n",
    "        if verbose:\n",
    "            print thevariable,theparents,theprob\n",
    "        loglike += np.log(theprob)\n",
    "    return loglike"
   ]
  },
  {
   "cell_type": "code",
   "execution_count": 44,
   "metadata": {
    "ExecuteTime": {
     "end_time": "2018-04-26T02:21:40.830000Z",
     "start_time": "2018-04-26T02:21:37.539000Z"
    },
    "collapsed": true,
    "scrolled": true
   },
   "outputs": [],
   "source": [
    "results = short.apply(lambda x: LL(x,model),axis=1)"
   ]
  },
  {
   "cell_type": "code",
   "execution_count": 45,
   "metadata": {
    "ExecuteTime": {
     "end_time": "2018-04-26T02:21:40.860000Z",
     "start_time": "2018-04-26T02:21:40.849000Z"
    }
   },
   "outputs": [
    {
     "name": "stdout",
     "output_type": "stream",
     "text": [
      "1856   -15.242954\n",
      "1227   -15.218920\n",
      "221    -15.209478\n",
      "317    -13.826869\n",
      "2027   -13.794734\n",
      "dtype: float64\n"
     ]
    }
   ],
   "source": [
    "# 5 most anomalous data records\n",
    "anomaly = results.sort_values().head(20)\n",
    "print anomaly.head(5)"
   ]
  },
  {
   "cell_type": "code",
   "execution_count": 46,
   "metadata": {
    "ExecuteTime": {
     "end_time": "2018-04-26T02:21:40.881000Z",
     "start_time": "2018-04-26T02:21:40.865000Z"
    }
   },
   "outputs": [
    {
     "data": {
      "text/plain": [
       "221                     San Francisco, California\n",
       "248                             Boulder, Colorado\n",
       "317    District of Columbia, District of Columbia\n",
       "415                              Clayton, Georgia\n",
       "444                               Fulton, Georgia\n",
       "Name: County, dtype: object"
      ]
     },
     "execution_count": 46,
     "metadata": {},
     "output_type": "execute_result"
    }
   ],
   "source": [
    "counties = Data2[Data2.index.isin(anomaly.index)]['County']\n",
    "counties.head(5)"
   ]
  },
  {
   "cell_type": "code",
   "execution_count": 47,
   "metadata": {
    "ExecuteTime": {
     "end_time": "2018-04-26T02:21:40.904000Z",
     "start_time": "2018-04-26T02:21:40.885000Z"
    }
   },
   "outputs": [
    {
     "data": {
      "text/html": [
       "<div>\n",
       "<style>\n",
       "    .dataframe thead tr:only-child th {\n",
       "        text-align: right;\n",
       "    }\n",
       "\n",
       "    .dataframe thead th {\n",
       "        text-align: left;\n",
       "    }\n",
       "\n",
       "    .dataframe tbody tr th {\n",
       "        vertical-align: top;\n",
       "    }\n",
       "</style>\n",
       "<table border=\"1\" class=\"dataframe\">\n",
       "  <thead>\n",
       "    <tr style=\"text-align: right;\">\n",
       "      <th></th>\n",
       "      <th>County</th>\n",
       "      <th>Log Likelihood</th>\n",
       "    </tr>\n",
       "  </thead>\n",
       "  <tbody>\n",
       "    <tr>\n",
       "      <th>1856</th>\n",
       "      <td>New York, New York</td>\n",
       "      <td>-15.242954</td>\n",
       "    </tr>\n",
       "    <tr>\n",
       "      <th>1227</th>\n",
       "      <td>Suffolk, Massachusetts</td>\n",
       "      <td>-15.218920</td>\n",
       "    </tr>\n",
       "    <tr>\n",
       "      <th>221</th>\n",
       "      <td>San Francisco, California</td>\n",
       "      <td>-15.209478</td>\n",
       "    </tr>\n",
       "    <tr>\n",
       "      <th>317</th>\n",
       "      <td>District of Columbia, District of Columbia</td>\n",
       "      <td>-13.826869</td>\n",
       "    </tr>\n",
       "    <tr>\n",
       "      <th>2027</th>\n",
       "      <td>Rolette, North Dakota</td>\n",
       "      <td>-13.794734</td>\n",
       "    </tr>\n",
       "  </tbody>\n",
       "</table>\n",
       "</div>"
      ],
      "text/plain": [
       "                                          County  Log Likelihood\n",
       "1856                          New York, New York      -15.242954\n",
       "1227                      Suffolk, Massachusetts      -15.218920\n",
       "221                    San Francisco, California      -15.209478\n",
       "317   District of Columbia, District of Columbia      -13.826869\n",
       "2027                       Rolette, North Dakota      -13.794734"
      ]
     },
     "execution_count": 47,
     "metadata": {},
     "output_type": "execute_result"
    }
   ],
   "source": [
    "# printing the list of counties that have the lowest log likelihood values\n",
    "df1 = counties.to_frame()\n",
    "df2 = anomaly.to_frame()\n",
    "final_list1 = df1.join(df2)\n",
    "final_list1.columns = ['County', 'Log Likelihood']\n",
    "final_list1 = final_list1.sort_values(by=['Log Likelihood'])\n",
    "final_list1.head(5)"
   ]
  },
  {
   "cell_type": "code",
   "execution_count": null,
   "metadata": {
    "collapsed": true
   },
   "outputs": [],
   "source": []
  },
  {
   "cell_type": "code",
   "execution_count": null,
   "metadata": {
    "collapsed": true
   },
   "outputs": [],
   "source": []
  },
  {
   "cell_type": "code",
   "execution_count": 48,
   "metadata": {
    "ExecuteTime": {
     "end_time": "2018-04-26T02:21:40.917000Z",
     "start_time": "2018-04-26T02:21:40.908000Z"
    },
    "scrolled": true
   },
   "outputs": [
    {
     "data": {
      "text/plain": [
       "County                                    object\n",
       "'\\% Reporting Fair/Poor Health'           object\n",
       "'Physically Unhealthy Days Per Month'     object\n",
       "'Mentally Unhealthy Days Per Month'       object\n",
       "'\\% Low birth weight births'              object\n",
       "'\\% Smokers'                              object\n",
       "'\\% Obese'                                 int64\n",
       "'Food Environment Index'                 float64\n",
       "'\\% Physically Inactive'                   int64\n",
       "'\\% With Access To Exercise'              object\n",
       "'\\% Excessive Drinking'                   object\n",
       "'\\% Alcohol-Impaired Driving Deaths'      object\n",
       "'Chlamydia Rate'                          object\n",
       "'Teen Birth Rate'                         object\n",
       "'\\% Uninsured'                            object\n",
       "'Preventable Hosp. Rate'                  object\n",
       "'\\% Dibetics receiving HbA1c'             object\n",
       "'\\% Mammography'                          object\n",
       "'Graduation Rate'                         object\n",
       "'\\% Some College'                         object\n",
       "'\\% Unemployed'                           object\n",
       "'\\% Children in Poverty'                  object\n",
       "'80/20 Income Ratio'                      object\n",
       "'\\% Single-Parent Households'             object\n",
       "'Association Rate'                       float64\n",
       "'Violent Crime Rate'                      object\n",
       "'Injury Death Rate'                       object\n",
       "'Average Daily PM2.5'                     object\n",
       "'\\% Severe Housing Problems'               int64\n",
       "'\\% Drive Alone'                          object\n",
       "'\\% Long Commute - Drives Alone'          object\n",
       "dtype: object"
      ]
     },
     "execution_count": 48,
     "metadata": {},
     "output_type": "execute_result"
    }
   ],
   "source": [
    "# Part 2\n",
    "# (a) K MEANS clustering\n",
    "Data2.dtypes"
   ]
  },
  {
   "cell_type": "code",
   "execution_count": 49,
   "metadata": {
    "ExecuteTime": {
     "end_time": "2018-04-26T02:21:41.033000Z",
     "start_time": "2018-04-26T02:21:40.920000Z"
    },
    "scrolled": true
   },
   "outputs": [
    {
     "name": "stderr",
     "output_type": "stream",
     "text": [
      "D:\\ana\\lib\\site-packages\\ipykernel_launcher.py:2: FutureWarning: convert_objects is deprecated.  Use the data-type specific converters pd.to_datetime, pd.to_timedelta and pd.to_numeric.\n",
      "  \n"
     ]
    },
    {
     "data": {
      "text/plain": [
       "County                                    object\n",
       "'\\% Reporting Fair/Poor Health'          float64\n",
       "'Physically Unhealthy Days Per Month'    float64\n",
       "'Mentally Unhealthy Days Per Month'      float64\n",
       "'\\% Low birth weight births'             float64\n",
       "'\\% Smokers'                             float64\n",
       "'\\% Obese'                               float64\n",
       "'Food Environment Index'                 float64\n",
       "'\\% Physically Inactive'                 float64\n",
       "'\\% With Access To Exercise'             float64\n",
       "'\\% Excessive Drinking'                  float64\n",
       "'\\% Alcohol-Impaired Driving Deaths'     float64\n",
       "'Chlamydia Rate'                         float64\n",
       "'Teen Birth Rate'                        float64\n",
       "'\\% Uninsured'                           float64\n",
       "'Preventable Hosp. Rate'                 float64\n",
       "'\\% Dibetics receiving HbA1c'            float64\n",
       "'\\% Mammography'                         float64\n",
       "'Graduation Rate'                        float64\n",
       "'\\% Some College'                        float64\n",
       "'\\% Unemployed'                          float64\n",
       "'\\% Children in Poverty'                 float64\n",
       "'80/20 Income Ratio'                     float64\n",
       "'\\% Single-Parent Households'            float64\n",
       "'Association Rate'                       float64\n",
       "'Violent Crime Rate'                     float64\n",
       "'Injury Death Rate'                      float64\n",
       "'Average Daily PM2.5'                    float64\n",
       "'\\% Severe Housing Problems'             float64\n",
       "'\\% Drive Alone'                         float64\n",
       "'\\% Long Commute - Drives Alone'         float64\n",
       "dtype: object"
      ]
     },
     "execution_count": 49,
     "metadata": {},
     "output_type": "execute_result"
    }
   ],
   "source": [
    "# Converting data type to float\n",
    "Data2 = Data2.convert_objects(convert_numeric=True)\n",
    "Data2[\"'\\% Obese'\"] = Data2[\"'\\% Obese'\"].astype(\"float64\")\n",
    "Data2[\"'\\% Physically Inactive'\"] = Data2[\"'\\% Physically Inactive'\"].astype(\"float64\")\n",
    "Data2[\"'\\% Severe Housing Problems'\"] = Data2[\"'\\% Severe Housing Problems'\"].astype(\"float64\")\n",
    "\n",
    "Data2.dtypes"
   ]
  },
  {
   "cell_type": "code",
   "execution_count": 50,
   "metadata": {
    "ExecuteTime": {
     "end_time": "2018-04-26T02:21:41.049000Z",
     "start_time": "2018-04-26T02:21:41.036000Z"
    },
    "scrolled": true
   },
   "outputs": [
    {
     "data": {
      "text/plain": [
       "array([[ 19. ,   4.4,   4.3, ...,  14. ,  89. ,  42. ],\n",
       "       [ 16. ,   4.1,   4.2, ...,  15. ,  84. ,  37. ],\n",
       "       [ 26. ,   4.9,   4.7, ...,  18. ,  84. ,  35. ],\n",
       "       ..., \n",
       "       [ 15. ,   3.4,   3.2, ...,  12. ,  78. ,  17. ],\n",
       "       [ 14. ,   3.3,   3.3, ...,   9. ,  70. ,  12. ],\n",
       "       [ 13. ,   3.3,   3.1, ...,   8. ,  68. ,  22. ]])"
      ]
     },
     "execution_count": 50,
     "metadata": {},
     "output_type": "execute_result"
    }
   ],
   "source": [
    "X = Data2.iloc[:,1:]\n",
    "X = X.values\n",
    "X"
   ]
  },
  {
   "cell_type": "code",
   "execution_count": 51,
   "metadata": {
    "ExecuteTime": {
     "end_time": "2018-04-26T02:21:41.064000Z",
     "start_time": "2018-04-26T02:21:41.054000Z"
    },
    "collapsed": true
   },
   "outputs": [],
   "source": [
    "# converting all NAN values to numeric values\n",
    "X = np.nan_to_num(X)"
   ]
  },
  {
   "cell_type": "code",
   "execution_count": 52,
   "metadata": {
    "ExecuteTime": {
     "end_time": "2018-04-26T02:21:41.082000Z",
     "start_time": "2018-04-26T02:21:41.068000Z"
    }
   },
   "outputs": [
    {
     "data": {
      "text/plain": [
       "True"
      ]
     },
     "execution_count": 52,
     "metadata": {},
     "output_type": "execute_result"
    }
   ],
   "source": [
    "# no NA in the data\n",
    "np.isfinite(X).all()"
   ]
  },
  {
   "cell_type": "code",
   "execution_count": 53,
   "metadata": {
    "ExecuteTime": {
     "end_time": "2018-04-26T02:21:41.570000Z",
     "start_time": "2018-04-26T02:21:41.088000Z"
    },
    "scrolled": false
   },
   "outputs": [
    {
     "data": {
      "text/html": [
       "<div>\n",
       "<style>\n",
       "    .dataframe thead tr:only-child th {\n",
       "        text-align: right;\n",
       "    }\n",
       "\n",
       "    .dataframe thead th {\n",
       "        text-align: left;\n",
       "    }\n",
       "\n",
       "    .dataframe tbody tr th {\n",
       "        vertical-align: top;\n",
       "    }\n",
       "</style>\n",
       "<table border=\"1\" class=\"dataframe\">\n",
       "  <thead>\n",
       "    <tr style=\"text-align: right;\">\n",
       "      <th></th>\n",
       "      <th>0</th>\n",
       "      <th>1</th>\n",
       "      <th>2</th>\n",
       "    </tr>\n",
       "  </thead>\n",
       "  <tbody>\n",
       "    <tr>\n",
       "      <th>0</th>\n",
       "      <td>250.946004</td>\n",
       "      <td>105.535695</td>\n",
       "      <td>630.921505</td>\n",
       "    </tr>\n",
       "    <tr>\n",
       "      <th>1</th>\n",
       "      <td>144.131528</td>\n",
       "      <td>190.129811</td>\n",
       "      <td>740.514207</td>\n",
       "    </tr>\n",
       "    <tr>\n",
       "      <th>2</th>\n",
       "      <td>438.079611</td>\n",
       "      <td>282.740781</td>\n",
       "      <td>541.825251</td>\n",
       "    </tr>\n",
       "    <tr>\n",
       "      <th>3</th>\n",
       "      <td>202.050419</td>\n",
       "      <td>144.578630</td>\n",
       "      <td>681.692113</td>\n",
       "    </tr>\n",
       "    <tr>\n",
       "      <th>4</th>\n",
       "      <td>107.417221</td>\n",
       "      <td>318.099738</td>\n",
       "      <td>874.794703</td>\n",
       "    </tr>\n",
       "  </tbody>\n",
       "</table>\n",
       "</div>"
      ],
      "text/plain": [
       "            0           1           2\n",
       "0  250.946004  105.535695  630.921505\n",
       "1  144.131528  190.129811  740.514207\n",
       "2  438.079611  282.740781  541.825251\n",
       "3  202.050419  144.578630  681.692113\n",
       "4  107.417221  318.099738  874.794703"
      ]
     },
     "execution_count": 53,
     "metadata": {},
     "output_type": "execute_result"
    }
   ],
   "source": [
    "from sklearn.cluster import KMeans\n",
    "KM=KMeans(n_clusters=3,random_state=999)\n",
    "scor=KM.fit_predict(X)\n",
    "\n",
    "# distance to each cluster center\n",
    "res=pd.DataFrame(KM.transform(X))\n",
    "res.head()"
   ]
  },
  {
   "cell_type": "code",
   "execution_count": 54,
   "metadata": {
    "ExecuteTime": {
     "end_time": "2018-04-26T02:21:41.967000Z",
     "start_time": "2018-04-26T02:21:41.575000Z"
    }
   },
   "outputs": [
    {
     "data": {
      "text/html": [
       "<div>\n",
       "<style>\n",
       "    .dataframe thead tr:only-child th {\n",
       "        text-align: right;\n",
       "    }\n",
       "\n",
       "    .dataframe thead th {\n",
       "        text-align: left;\n",
       "    }\n",
       "\n",
       "    .dataframe tbody tr th {\n",
       "        vertical-align: top;\n",
       "    }\n",
       "</style>\n",
       "<table border=\"1\" class=\"dataframe\">\n",
       "  <thead>\n",
       "    <tr style=\"text-align: right;\">\n",
       "      <th></th>\n",
       "      <th>0</th>\n",
       "      <th>1</th>\n",
       "      <th>2</th>\n",
       "      <th>cluster</th>\n",
       "      <th>score</th>\n",
       "    </tr>\n",
       "  </thead>\n",
       "  <tbody>\n",
       "    <tr>\n",
       "      <th>2415</th>\n",
       "      <td>2468.948749</td>\n",
       "      <td>2249.197299</td>\n",
       "      <td>1808.542199</td>\n",
       "      <td>2</td>\n",
       "      <td>1808.542199</td>\n",
       "    </tr>\n",
       "    <tr>\n",
       "      <th>82</th>\n",
       "      <td>2243.246976</td>\n",
       "      <td>2025.872187</td>\n",
       "      <td>1595.761604</td>\n",
       "      <td>2</td>\n",
       "      <td>1595.761604</td>\n",
       "    </tr>\n",
       "    <tr>\n",
       "      <th>90</th>\n",
       "      <td>2228.863484</td>\n",
       "      <td>2012.658893</td>\n",
       "      <td>1585.523000</td>\n",
       "      <td>2</td>\n",
       "      <td>1585.523000</td>\n",
       "    </tr>\n",
       "    <tr>\n",
       "      <th>84</th>\n",
       "      <td>2207.055249</td>\n",
       "      <td>1990.245057</td>\n",
       "      <td>1562.359305</td>\n",
       "      <td>2</td>\n",
       "      <td>1562.359305</td>\n",
       "    </tr>\n",
       "    <tr>\n",
       "      <th>2379</th>\n",
       "      <td>2068.136787</td>\n",
       "      <td>1850.605374</td>\n",
       "      <td>1425.727411</td>\n",
       "      <td>2</td>\n",
       "      <td>1425.727411</td>\n",
       "    </tr>\n",
       "  </tbody>\n",
       "</table>\n",
       "</div>"
      ],
      "text/plain": [
       "                0            1            2  cluster        score\n",
       "2415  2468.948749  2249.197299  1808.542199        2  1808.542199\n",
       "82    2243.246976  2025.872187  1595.761604        2  1595.761604\n",
       "90    2228.863484  2012.658893  1585.523000        2  1585.523000\n",
       "84    2207.055249  1990.245057  1562.359305        2  1562.359305\n",
       "2379  2068.136787  1850.605374  1425.727411        2  1425.727411"
      ]
     },
     "execution_count": 54,
     "metadata": {},
     "output_type": "execute_result"
    }
   ],
   "source": [
    "# add cluster and distance information for each data record\n",
    "res=pd.DataFrame(KM.transform(X))\n",
    "res=pd.concat((res,pd.DataFrame(KM.fit_predict(X))),axis=1)\n",
    "res.columns=list(range(3))+[\"cluster\"]\n",
    "res.loc[:,\"score\"]=res.apply(lambda x: x[int(x[\"cluster\"])],axis=1)\n",
    "\n",
    "# find data records farthest from cluster centers\n",
    "res_ind = res.sort_values(\"score\",ascending=False)[:20]\n",
    "res_ind.head(5)"
   ]
  },
  {
   "cell_type": "code",
   "execution_count": 55,
   "metadata": {
    "ExecuteTime": {
     "end_time": "2018-04-26T02:21:41.997000Z",
     "start_time": "2018-04-26T02:21:41.972000Z"
    }
   },
   "outputs": [
    {
     "data": {
      "text/html": [
       "<div>\n",
       "<style>\n",
       "    .dataframe thead tr:only-child th {\n",
       "        text-align: right;\n",
       "    }\n",
       "\n",
       "    .dataframe thead th {\n",
       "        text-align: left;\n",
       "    }\n",
       "\n",
       "    .dataframe tbody tr th {\n",
       "        vertical-align: top;\n",
       "    }\n",
       "</style>\n",
       "<table border=\"1\" class=\"dataframe\">\n",
       "  <thead>\n",
       "    <tr style=\"text-align: right;\">\n",
       "      <th></th>\n",
       "      <th>County</th>\n",
       "      <th>KMEANS score</th>\n",
       "    </tr>\n",
       "  </thead>\n",
       "  <tbody>\n",
       "    <tr>\n",
       "      <th>2415</th>\n",
       "      <td>Shannon, South Dakota</td>\n",
       "      <td>1808.542199</td>\n",
       "    </tr>\n",
       "    <tr>\n",
       "      <th>82</th>\n",
       "      <td>Nome, Alaska</td>\n",
       "      <td>1595.761604</td>\n",
       "    </tr>\n",
       "    <tr>\n",
       "      <th>90</th>\n",
       "      <td>Wade Hampton, Alaska</td>\n",
       "      <td>1585.523000</td>\n",
       "    </tr>\n",
       "    <tr>\n",
       "      <th>84</th>\n",
       "      <td>Northwest Arctic, Alaska</td>\n",
       "      <td>1562.359305</td>\n",
       "    </tr>\n",
       "    <tr>\n",
       "      <th>2379</th>\n",
       "      <td>Dewey, South Dakota</td>\n",
       "      <td>1425.727411</td>\n",
       "    </tr>\n",
       "  </tbody>\n",
       "</table>\n",
       "</div>"
      ],
      "text/plain": [
       "                        County  KMEANS score\n",
       "2415     Shannon, South Dakota   1808.542199\n",
       "82                Nome, Alaska   1595.761604\n",
       "90        Wade Hampton, Alaska   1585.523000\n",
       "84    Northwest Arctic, Alaska   1562.359305\n",
       "2379       Dewey, South Dakota   1425.727411"
      ]
     },
     "execution_count": 55,
     "metadata": {},
     "output_type": "execute_result"
    }
   ],
   "source": [
    "KMC = Data2[Data2.index.isin(res_ind.index)]['County']\n",
    "df3 = KMC.to_frame()\n",
    "df4 = res_ind['score'].to_frame()\n",
    "final_list2 = df3.join(df4)\n",
    "final_list2.columns = ['County', 'KMEANS score']\n",
    "final_list2 = final_list2.sort_values(by=['KMEANS score'], ascending=False)\n",
    "final_list2.head(5)"
   ]
  },
  {
   "cell_type": "code",
   "execution_count": null,
   "metadata": {
    "collapsed": true
   },
   "outputs": [],
   "source": []
  },
  {
   "cell_type": "code",
   "execution_count": 56,
   "metadata": {
    "ExecuteTime": {
     "end_time": "2018-04-26T02:21:42.312000Z",
     "start_time": "2018-04-26T02:21:42Z"
    }
   },
   "outputs": [
    {
     "data": {
      "text/plain": [
       "GaussianMixture(covariance_type='full', init_params='kmeans', max_iter=100,\n",
       "        means_init=None, n_components=3, n_init=1, precisions_init=None,\n",
       "        random_state=999, reg_covar=1e-06, tol=0.001, verbose=0,\n",
       "        verbose_interval=10, warm_start=False, weights_init=None)"
      ]
     },
     "execution_count": 56,
     "metadata": {},
     "output_type": "execute_result"
    }
   ],
   "source": [
    "# (b) GM clustering\n",
    "from sklearn.mixture import GaussianMixture\n",
    "GM=GaussianMixture(n_components=3,random_state=999)\n",
    "GM.fit(X)"
   ]
  },
  {
   "cell_type": "code",
   "execution_count": 57,
   "metadata": {
    "ExecuteTime": {
     "end_time": "2018-04-26T02:21:42.345000Z",
     "start_time": "2018-04-26T02:21:42.319000Z"
    }
   },
   "outputs": [
    {
     "data": {
      "text/html": [
       "<div>\n",
       "<style>\n",
       "    .dataframe thead tr:only-child th {\n",
       "        text-align: right;\n",
       "    }\n",
       "\n",
       "    .dataframe thead th {\n",
       "        text-align: left;\n",
       "    }\n",
       "\n",
       "    .dataframe tbody tr th {\n",
       "        vertical-align: top;\n",
       "    }\n",
       "</style>\n",
       "<table border=\"1\" class=\"dataframe\">\n",
       "  <thead>\n",
       "    <tr style=\"text-align: right;\">\n",
       "      <th></th>\n",
       "      <th>0</th>\n",
       "    </tr>\n",
       "  </thead>\n",
       "  <tbody>\n",
       "    <tr>\n",
       "      <th>2914</th>\n",
       "      <td>-245.937199</td>\n",
       "    </tr>\n",
       "    <tr>\n",
       "      <th>546</th>\n",
       "      <td>-201.862761</td>\n",
       "    </tr>\n",
       "    <tr>\n",
       "      <th>2671</th>\n",
       "      <td>-162.732278</td>\n",
       "    </tr>\n",
       "    <tr>\n",
       "      <th>2651</th>\n",
       "      <td>-160.939796</td>\n",
       "    </tr>\n",
       "    <tr>\n",
       "      <th>1749</th>\n",
       "      <td>-135.167379</td>\n",
       "    </tr>\n",
       "  </tbody>\n",
       "</table>\n",
       "</div>"
      ],
      "text/plain": [
       "               0\n",
       "2914 -245.937199\n",
       "546  -201.862761\n",
       "2671 -162.732278\n",
       "2651 -160.939796\n",
       "1749 -135.167379"
      ]
     },
     "execution_count": 57,
     "metadata": {},
     "output_type": "execute_result"
    }
   ],
   "source": [
    "# 5 most anomalous data points by log-likelihood (i.e. log probability density)\n",
    "GMA = pd.DataFrame(GM.score_samples(X)).sort_values(0)[:20]\n",
    "GMA.head(5)"
   ]
  },
  {
   "cell_type": "code",
   "execution_count": 58,
   "metadata": {
    "ExecuteTime": {
     "end_time": "2018-04-26T02:21:42.371000Z",
     "start_time": "2018-04-26T02:21:42.351000Z"
    }
   },
   "outputs": [
    {
     "data": {
      "text/html": [
       "<div>\n",
       "<style>\n",
       "    .dataframe thead tr:only-child th {\n",
       "        text-align: right;\n",
       "    }\n",
       "\n",
       "    .dataframe thead th {\n",
       "        text-align: left;\n",
       "    }\n",
       "\n",
       "    .dataframe tbody tr th {\n",
       "        vertical-align: top;\n",
       "    }\n",
       "</style>\n",
       "<table border=\"1\" class=\"dataframe\">\n",
       "  <thead>\n",
       "    <tr style=\"text-align: right;\">\n",
       "      <th></th>\n",
       "      <th>County</th>\n",
       "      <th>GM Log Likelihood</th>\n",
       "    </tr>\n",
       "  </thead>\n",
       "  <tbody>\n",
       "    <tr>\n",
       "      <th>2914</th>\n",
       "      <td>Bedford City, Virginia</td>\n",
       "      <td>-245.937199</td>\n",
       "    </tr>\n",
       "    <tr>\n",
       "      <th>546</th>\n",
       "      <td>Kalawao, Hawaii</td>\n",
       "      <td>-201.862761</td>\n",
       "    </tr>\n",
       "    <tr>\n",
       "      <th>2671</th>\n",
       "      <td>Loving, Texas</td>\n",
       "      <td>-162.732278</td>\n",
       "    </tr>\n",
       "    <tr>\n",
       "      <th>2651</th>\n",
       "      <td>Kenedy, Texas</td>\n",
       "      <td>-160.939796</td>\n",
       "    </tr>\n",
       "    <tr>\n",
       "      <th>1749</th>\n",
       "      <td>Esmeralda, Nevada</td>\n",
       "      <td>-135.167379</td>\n",
       "    </tr>\n",
       "  </tbody>\n",
       "</table>\n",
       "</div>"
      ],
      "text/plain": [
       "                      County  GM Log Likelihood\n",
       "2914  Bedford City, Virginia        -245.937199\n",
       "546          Kalawao, Hawaii        -201.862761\n",
       "2671           Loving, Texas        -162.732278\n",
       "2651           Kenedy, Texas        -160.939796\n",
       "1749       Esmeralda, Nevada        -135.167379"
      ]
     },
     "execution_count": 58,
     "metadata": {},
     "output_type": "execute_result"
    }
   ],
   "source": [
    "CGM = Data2[Data2.index.isin(GMA.index)]['County']\n",
    "A = CGM.to_frame()\n",
    "final_list3 = A.join(GMA)\n",
    "final_list3.columns = ['County', 'GM Log Likelihood']\n",
    "final_list3 = final_list3.sort_values(by=['GM Log Likelihood'])\n",
    "final_list3.head(5)"
   ]
  },
  {
   "cell_type": "code",
   "execution_count": null,
   "metadata": {
    "collapsed": true
   },
   "outputs": [],
   "source": []
  },
  {
   "cell_type": "code",
   "execution_count": null,
   "metadata": {
    "collapsed": true
   },
   "outputs": [],
   "source": []
  },
  {
   "cell_type": "code",
   "execution_count": 59,
   "metadata": {
    "ExecuteTime": {
     "end_time": "2018-04-26T02:21:42.402000Z",
     "start_time": "2018-04-26T02:21:42.375000Z"
    },
    "collapsed": true
   },
   "outputs": [],
   "source": [
    "# Part 3\n",
    "# Method Chosen: isolation forest\n",
    "from sklearn.ensemble import IsolationForest"
   ]
  },
  {
   "cell_type": "code",
   "execution_count": 60,
   "metadata": {
    "ExecuteTime": {
     "end_time": "2018-04-26T02:21:42.421000Z",
     "start_time": "2018-04-26T02:21:42.407000Z"
    }
   },
   "outputs": [
    {
     "data": {
      "text/plain": [
       "array([[ 19. ,   4.4,   4.3, ...,  14. ,  89. ,  42. ],\n",
       "       [ 16. ,   4.1,   4.2, ...,  15. ,  84. ,  37. ],\n",
       "       [ 26. ,   4.9,   4.7, ...,  18. ,  84. ,  35. ],\n",
       "       ..., \n",
       "       [ 15. ,   3.4,   3.2, ...,  12. ,  78. ,  17. ],\n",
       "       [ 14. ,   3.3,   3.3, ...,   9. ,  70. ,  12. ],\n",
       "       [ 13. ,   3.3,   3.1, ...,   8. ,  68. ,  22. ]])"
      ]
     },
     "execution_count": 60,
     "metadata": {},
     "output_type": "execute_result"
    }
   ],
   "source": [
    "X = Data2.iloc[:,1:]\n",
    "X = np.nan_to_num(X)\n",
    "X"
   ]
  },
  {
   "cell_type": "code",
   "execution_count": 61,
   "metadata": {
    "ExecuteTime": {
     "end_time": "2018-04-26T02:21:43.010000Z",
     "start_time": "2018-04-26T02:21:42.425000Z"
    },
    "collapsed": true
   },
   "outputs": [],
   "source": [
    "# fit the model\n",
    "rng = np.random.RandomState(42)\n",
    "clf = IsolationForest(max_samples=100, random_state=rng)\n",
    "clf.fit(X)\n",
    "y_pred_train = clf.predict(X)"
   ]
  },
  {
   "cell_type": "code",
   "execution_count": 62,
   "metadata": {
    "ExecuteTime": {
     "end_time": "2018-04-26T02:21:43.170000Z",
     "start_time": "2018-04-26T02:21:43.015000Z"
    },
    "collapsed": true
   },
   "outputs": [],
   "source": [
    "score = clf.decision_function(X)"
   ]
  },
  {
   "cell_type": "code",
   "execution_count": 63,
   "metadata": {
    "ExecuteTime": {
     "end_time": "2018-04-26T02:21:43.212000Z",
     "start_time": "2018-04-26T02:21:43.173000Z"
    }
   },
   "outputs": [
    {
     "data": {
      "text/html": [
       "<div>\n",
       "<style>\n",
       "    .dataframe thead tr:only-child th {\n",
       "        text-align: right;\n",
       "    }\n",
       "\n",
       "    .dataframe thead th {\n",
       "        text-align: left;\n",
       "    }\n",
       "\n",
       "    .dataframe tbody tr th {\n",
       "        vertical-align: top;\n",
       "    }\n",
       "</style>\n",
       "<table border=\"1\" class=\"dataframe\">\n",
       "  <thead>\n",
       "    <tr style=\"text-align: right;\">\n",
       "      <th></th>\n",
       "      <th>County</th>\n",
       "      <th>'\\% Reporting Fair/Poor Health'</th>\n",
       "      <th>'Physically Unhealthy Days Per Month'</th>\n",
       "      <th>'Mentally Unhealthy Days Per Month'</th>\n",
       "      <th>'\\% Low birth weight births'</th>\n",
       "      <th>'\\% Smokers'</th>\n",
       "      <th>'\\% Obese'</th>\n",
       "      <th>'Food Environment Index'</th>\n",
       "      <th>'\\% Physically Inactive'</th>\n",
       "      <th>'\\% With Access To Exercise'</th>\n",
       "      <th>...</th>\n",
       "      <th>'80/20 Income Ratio'</th>\n",
       "      <th>'\\% Single-Parent Households'</th>\n",
       "      <th>'Association Rate'</th>\n",
       "      <th>'Violent Crime Rate'</th>\n",
       "      <th>'Injury Death Rate'</th>\n",
       "      <th>'Average Daily PM2.5'</th>\n",
       "      <th>'\\% Severe Housing Problems'</th>\n",
       "      <th>'\\% Drive Alone'</th>\n",
       "      <th>'\\% Long Commute - Drives Alone'</th>\n",
       "      <th>clf_score</th>\n",
       "    </tr>\n",
       "  </thead>\n",
       "  <tbody>\n",
       "    <tr>\n",
       "      <th>0</th>\n",
       "      <td>Autauga, Alabama</td>\n",
       "      <td>19.0</td>\n",
       "      <td>4.4</td>\n",
       "      <td>4.3</td>\n",
       "      <td>9.0</td>\n",
       "      <td>19.0</td>\n",
       "      <td>31.0</td>\n",
       "      <td>7.1</td>\n",
       "      <td>29.0</td>\n",
       "      <td>71.0</td>\n",
       "      <td>...</td>\n",
       "      <td>4.3</td>\n",
       "      <td>27.0</td>\n",
       "      <td>13.8</td>\n",
       "      <td>254.0</td>\n",
       "      <td>76.0</td>\n",
       "      <td>12.9</td>\n",
       "      <td>14.0</td>\n",
       "      <td>89.0</td>\n",
       "      <td>42.0</td>\n",
       "      <td>0.107333</td>\n",
       "    </tr>\n",
       "    <tr>\n",
       "      <th>1</th>\n",
       "      <td>Baldwin, Alabama</td>\n",
       "      <td>16.0</td>\n",
       "      <td>4.1</td>\n",
       "      <td>4.2</td>\n",
       "      <td>9.0</td>\n",
       "      <td>19.0</td>\n",
       "      <td>27.0</td>\n",
       "      <td>7.6</td>\n",
       "      <td>25.0</td>\n",
       "      <td>72.0</td>\n",
       "      <td>...</td>\n",
       "      <td>4.5</td>\n",
       "      <td>28.0</td>\n",
       "      <td>12.0</td>\n",
       "      <td>221.0</td>\n",
       "      <td>70.0</td>\n",
       "      <td>13.1</td>\n",
       "      <td>15.0</td>\n",
       "      <td>84.0</td>\n",
       "      <td>37.0</td>\n",
       "      <td>0.116199</td>\n",
       "    </tr>\n",
       "    <tr>\n",
       "      <th>2</th>\n",
       "      <td>Barbour, Alabama</td>\n",
       "      <td>26.0</td>\n",
       "      <td>4.9</td>\n",
       "      <td>4.7</td>\n",
       "      <td>12.0</td>\n",
       "      <td>21.0</td>\n",
       "      <td>41.0</td>\n",
       "      <td>5.1</td>\n",
       "      <td>33.0</td>\n",
       "      <td>45.0</td>\n",
       "      <td>...</td>\n",
       "      <td>5.3</td>\n",
       "      <td>54.0</td>\n",
       "      <td>8.1</td>\n",
       "      <td>147.0</td>\n",
       "      <td>64.0</td>\n",
       "      <td>12.6</td>\n",
       "      <td>18.0</td>\n",
       "      <td>84.0</td>\n",
       "      <td>35.0</td>\n",
       "      <td>0.021807</td>\n",
       "    </tr>\n",
       "    <tr>\n",
       "      <th>3</th>\n",
       "      <td>Bibb, Alabama</td>\n",
       "      <td>22.0</td>\n",
       "      <td>4.8</td>\n",
       "      <td>4.6</td>\n",
       "      <td>12.0</td>\n",
       "      <td>21.0</td>\n",
       "      <td>40.0</td>\n",
       "      <td>7.4</td>\n",
       "      <td>33.0</td>\n",
       "      <td>33.0</td>\n",
       "      <td>...</td>\n",
       "      <td>4.3</td>\n",
       "      <td>32.0</td>\n",
       "      <td>9.8</td>\n",
       "      <td>236.0</td>\n",
       "      <td>75.0</td>\n",
       "      <td>12.9</td>\n",
       "      <td>13.0</td>\n",
       "      <td>84.0</td>\n",
       "      <td>46.0</td>\n",
       "      <td>0.094351</td>\n",
       "    </tr>\n",
       "    <tr>\n",
       "      <th>4</th>\n",
       "      <td>Blount, Alabama</td>\n",
       "      <td>21.0</td>\n",
       "      <td>4.6</td>\n",
       "      <td>4.5</td>\n",
       "      <td>7.0</td>\n",
       "      <td>19.0</td>\n",
       "      <td>32.0</td>\n",
       "      <td>8.3</td>\n",
       "      <td>29.0</td>\n",
       "      <td>26.0</td>\n",
       "      <td>...</td>\n",
       "      <td>4.1</td>\n",
       "      <td>28.0</td>\n",
       "      <td>8.5</td>\n",
       "      <td>219.0</td>\n",
       "      <td>89.0</td>\n",
       "      <td>12.7</td>\n",
       "      <td>12.0</td>\n",
       "      <td>85.0</td>\n",
       "      <td>59.0</td>\n",
       "      <td>0.079727</td>\n",
       "    </tr>\n",
       "  </tbody>\n",
       "</table>\n",
       "<p>5 rows × 32 columns</p>\n",
       "</div>"
      ],
      "text/plain": [
       "             County  '\\% Reporting Fair/Poor Health'  \\\n",
       "0  Autauga, Alabama                             19.0   \n",
       "1  Baldwin, Alabama                             16.0   \n",
       "2  Barbour, Alabama                             26.0   \n",
       "3     Bibb, Alabama                             22.0   \n",
       "4   Blount, Alabama                             21.0   \n",
       "\n",
       "   'Physically Unhealthy Days Per Month'  'Mentally Unhealthy Days Per Month'  \\\n",
       "0                                    4.4                                  4.3   \n",
       "1                                    4.1                                  4.2   \n",
       "2                                    4.9                                  4.7   \n",
       "3                                    4.8                                  4.6   \n",
       "4                                    4.6                                  4.5   \n",
       "\n",
       "   '\\% Low birth weight births'  '\\% Smokers'  '\\% Obese'  \\\n",
       "0                           9.0          19.0        31.0   \n",
       "1                           9.0          19.0        27.0   \n",
       "2                          12.0          21.0        41.0   \n",
       "3                          12.0          21.0        40.0   \n",
       "4                           7.0          19.0        32.0   \n",
       "\n",
       "   'Food Environment Index'  '\\% Physically Inactive'  \\\n",
       "0                       7.1                      29.0   \n",
       "1                       7.6                      25.0   \n",
       "2                       5.1                      33.0   \n",
       "3                       7.4                      33.0   \n",
       "4                       8.3                      29.0   \n",
       "\n",
       "   '\\% With Access To Exercise'    ...      '80/20 Income Ratio'  \\\n",
       "0                          71.0    ...                       4.3   \n",
       "1                          72.0    ...                       4.5   \n",
       "2                          45.0    ...                       5.3   \n",
       "3                          33.0    ...                       4.3   \n",
       "4                          26.0    ...                       4.1   \n",
       "\n",
       "   '\\% Single-Parent Households'  'Association Rate'  'Violent Crime Rate'  \\\n",
       "0                           27.0                13.8                 254.0   \n",
       "1                           28.0                12.0                 221.0   \n",
       "2                           54.0                 8.1                 147.0   \n",
       "3                           32.0                 9.8                 236.0   \n",
       "4                           28.0                 8.5                 219.0   \n",
       "\n",
       "   'Injury Death Rate'  'Average Daily PM2.5'  '\\% Severe Housing Problems'  \\\n",
       "0                 76.0                   12.9                          14.0   \n",
       "1                 70.0                   13.1                          15.0   \n",
       "2                 64.0                   12.6                          18.0   \n",
       "3                 75.0                   12.9                          13.0   \n",
       "4                 89.0                   12.7                          12.0   \n",
       "\n",
       "   '\\% Drive Alone'  '\\% Long Commute - Drives Alone'  clf_score  \n",
       "0              89.0                              42.0   0.107333  \n",
       "1              84.0                              37.0   0.116199  \n",
       "2              84.0                              35.0   0.021807  \n",
       "3              84.0                              46.0   0.094351  \n",
       "4              85.0                              59.0   0.079727  \n",
       "\n",
       "[5 rows x 32 columns]"
      ]
     },
     "execution_count": 63,
     "metadata": {},
     "output_type": "execute_result"
    }
   ],
   "source": [
    "Data2['clf_score'] = score\n",
    "Data2.head()"
   ]
  },
  {
   "cell_type": "code",
   "execution_count": 64,
   "metadata": {
    "ExecuteTime": {
     "end_time": "2018-04-26T02:21:43.232000Z",
     "start_time": "2018-04-26T02:21:43.217000Z"
    }
   },
   "outputs": [
    {
     "data": {
      "text/html": [
       "<div>\n",
       "<style>\n",
       "    .dataframe thead tr:only-child th {\n",
       "        text-align: right;\n",
       "    }\n",
       "\n",
       "    .dataframe thead th {\n",
       "        text-align: left;\n",
       "    }\n",
       "\n",
       "    .dataframe tbody tr th {\n",
       "        vertical-align: top;\n",
       "    }\n",
       "</style>\n",
       "<table border=\"1\" class=\"dataframe\">\n",
       "  <thead>\n",
       "    <tr style=\"text-align: right;\">\n",
       "      <th></th>\n",
       "      <th>County</th>\n",
       "      <th>clf_score</th>\n",
       "    </tr>\n",
       "  </thead>\n",
       "  <tbody>\n",
       "    <tr>\n",
       "      <th>90</th>\n",
       "      <td>Wade Hampton, Alaska</td>\n",
       "      <td>-0.145391</td>\n",
       "    </tr>\n",
       "    <tr>\n",
       "      <th>2415</th>\n",
       "      <td>Shannon, South Dakota</td>\n",
       "      <td>-0.135611</td>\n",
       "    </tr>\n",
       "    <tr>\n",
       "      <th>80</th>\n",
       "      <td>Lake and Peninsula, Alaska</td>\n",
       "      <td>-0.120733</td>\n",
       "    </tr>\n",
       "    <tr>\n",
       "      <th>70</th>\n",
       "      <td>Bethel, Alaska</td>\n",
       "      <td>-0.118123</td>\n",
       "    </tr>\n",
       "    <tr>\n",
       "      <th>84</th>\n",
       "      <td>Northwest Arctic, Alaska</td>\n",
       "      <td>-0.110241</td>\n",
       "    </tr>\n",
       "  </tbody>\n",
       "</table>\n",
       "</div>"
      ],
      "text/plain": [
       "                          County  clf_score\n",
       "90          Wade Hampton, Alaska  -0.145391\n",
       "2415       Shannon, South Dakota  -0.135611\n",
       "80    Lake and Peninsula, Alaska  -0.120733\n",
       "70                Bethel, Alaska  -0.118123\n",
       "84      Northwest Arctic, Alaska  -0.110241"
      ]
     },
     "execution_count": 64,
     "metadata": {},
     "output_type": "execute_result"
    }
   ],
   "source": [
    "# Isolation forest: top 5 most anomalous counties\n",
    "final_list4 = Data2.sort_values(by=['clf_score'], ascending=True)[['County','clf_score']].head(20)\n",
    "final_list4.head(5)"
   ]
  },
  {
   "cell_type": "code",
   "execution_count": null,
   "metadata": {
    "collapsed": true
   },
   "outputs": [],
   "source": []
  },
  {
   "cell_type": "code",
   "execution_count": null,
   "metadata": {
    "collapsed": true
   },
   "outputs": [],
   "source": []
  },
  {
   "cell_type": "code",
   "execution_count": 78,
   "metadata": {
    "ExecuteTime": {
     "end_time": "2018-04-26T02:23:14.691000Z",
     "start_time": "2018-04-26T02:23:14.676000Z"
    },
    "scrolled": true
   },
   "outputs": [
    {
     "data": {
      "text/html": [
       "<div>\n",
       "<style>\n",
       "    .dataframe thead tr:only-child th {\n",
       "        text-align: right;\n",
       "    }\n",
       "\n",
       "    .dataframe thead th {\n",
       "        text-align: left;\n",
       "    }\n",
       "\n",
       "    .dataframe tbody tr th {\n",
       "        vertical-align: top;\n",
       "    }\n",
       "</style>\n",
       "<table border=\"1\" class=\"dataframe\">\n",
       "  <thead>\n",
       "    <tr style=\"text-align: right;\">\n",
       "      <th></th>\n",
       "      <th>County</th>\n",
       "      <th>Log Likelihood</th>\n",
       "    </tr>\n",
       "  </thead>\n",
       "  <tbody>\n",
       "    <tr>\n",
       "      <th>1856</th>\n",
       "      <td>New York, New York</td>\n",
       "      <td>-15.242954</td>\n",
       "    </tr>\n",
       "    <tr>\n",
       "      <th>1227</th>\n",
       "      <td>Suffolk, Massachusetts</td>\n",
       "      <td>-15.218920</td>\n",
       "    </tr>\n",
       "    <tr>\n",
       "      <th>221</th>\n",
       "      <td>San Francisco, California</td>\n",
       "      <td>-15.209478</td>\n",
       "    </tr>\n",
       "    <tr>\n",
       "      <th>317</th>\n",
       "      <td>District of Columbia, District of Columbia</td>\n",
       "      <td>-13.826869</td>\n",
       "    </tr>\n",
       "    <tr>\n",
       "      <th>2027</th>\n",
       "      <td>Rolette, North Dakota</td>\n",
       "      <td>-13.794734</td>\n",
       "    </tr>\n",
       "  </tbody>\n",
       "</table>\n",
       "</div>"
      ],
      "text/plain": [
       "                                          County  Log Likelihood\n",
       "1856                          New York, New York      -15.242954\n",
       "1227                      Suffolk, Massachusetts      -15.218920\n",
       "221                    San Francisco, California      -15.209478\n",
       "317   District of Columbia, District of Columbia      -13.826869\n",
       "2027                       Rolette, North Dakota      -13.794734"
      ]
     },
     "execution_count": 78,
     "metadata": {},
     "output_type": "execute_result"
    }
   ],
   "source": [
    "# Part 4\n",
    "# Bayesian network: top 5 anomalies\n",
    "f1 = final_list1.head(5)\n",
    "f1"
   ]
  },
  {
   "cell_type": "code",
   "execution_count": 79,
   "metadata": {
    "ExecuteTime": {
     "end_time": "2018-04-26T02:23:31.091000Z",
     "start_time": "2018-04-26T02:23:31.080000Z"
    },
    "scrolled": true
   },
   "outputs": [
    {
     "data": {
      "text/html": [
       "<div>\n",
       "<style>\n",
       "    .dataframe thead tr:only-child th {\n",
       "        text-align: right;\n",
       "    }\n",
       "\n",
       "    .dataframe thead th {\n",
       "        text-align: left;\n",
       "    }\n",
       "\n",
       "    .dataframe tbody tr th {\n",
       "        vertical-align: top;\n",
       "    }\n",
       "</style>\n",
       "<table border=\"1\" class=\"dataframe\">\n",
       "  <thead>\n",
       "    <tr style=\"text-align: right;\">\n",
       "      <th></th>\n",
       "      <th>County</th>\n",
       "      <th>KMEANS score</th>\n",
       "    </tr>\n",
       "  </thead>\n",
       "  <tbody>\n",
       "    <tr>\n",
       "      <th>2415</th>\n",
       "      <td>Shannon, South Dakota</td>\n",
       "      <td>1808.542199</td>\n",
       "    </tr>\n",
       "    <tr>\n",
       "      <th>82</th>\n",
       "      <td>Nome, Alaska</td>\n",
       "      <td>1595.761604</td>\n",
       "    </tr>\n",
       "    <tr>\n",
       "      <th>90</th>\n",
       "      <td>Wade Hampton, Alaska</td>\n",
       "      <td>1585.523000</td>\n",
       "    </tr>\n",
       "    <tr>\n",
       "      <th>84</th>\n",
       "      <td>Northwest Arctic, Alaska</td>\n",
       "      <td>1562.359305</td>\n",
       "    </tr>\n",
       "    <tr>\n",
       "      <th>2379</th>\n",
       "      <td>Dewey, South Dakota</td>\n",
       "      <td>1425.727411</td>\n",
       "    </tr>\n",
       "  </tbody>\n",
       "</table>\n",
       "</div>"
      ],
      "text/plain": [
       "                        County  KMEANS score\n",
       "2415     Shannon, South Dakota   1808.542199\n",
       "82                Nome, Alaska   1595.761604\n",
       "90        Wade Hampton, Alaska   1585.523000\n",
       "84    Northwest Arctic, Alaska   1562.359305\n",
       "2379       Dewey, South Dakota   1425.727411"
      ]
     },
     "execution_count": 79,
     "metadata": {},
     "output_type": "execute_result"
    }
   ],
   "source": [
    "# K means clustering: top 5 anomalies\n",
    "f2 = final_list2.head(5)\n",
    "f2"
   ]
  },
  {
   "cell_type": "code",
   "execution_count": 80,
   "metadata": {
    "ExecuteTime": {
     "end_time": "2018-04-26T02:23:44.848000Z",
     "start_time": "2018-04-26T02:23:44.834000Z"
    },
    "scrolled": true
   },
   "outputs": [
    {
     "data": {
      "text/html": [
       "<div>\n",
       "<style>\n",
       "    .dataframe thead tr:only-child th {\n",
       "        text-align: right;\n",
       "    }\n",
       "\n",
       "    .dataframe thead th {\n",
       "        text-align: left;\n",
       "    }\n",
       "\n",
       "    .dataframe tbody tr th {\n",
       "        vertical-align: top;\n",
       "    }\n",
       "</style>\n",
       "<table border=\"1\" class=\"dataframe\">\n",
       "  <thead>\n",
       "    <tr style=\"text-align: right;\">\n",
       "      <th></th>\n",
       "      <th>County</th>\n",
       "      <th>GM Log Likelihood</th>\n",
       "    </tr>\n",
       "  </thead>\n",
       "  <tbody>\n",
       "    <tr>\n",
       "      <th>2914</th>\n",
       "      <td>Bedford City, Virginia</td>\n",
       "      <td>-245.937199</td>\n",
       "    </tr>\n",
       "    <tr>\n",
       "      <th>546</th>\n",
       "      <td>Kalawao, Hawaii</td>\n",
       "      <td>-201.862761</td>\n",
       "    </tr>\n",
       "    <tr>\n",
       "      <th>2671</th>\n",
       "      <td>Loving, Texas</td>\n",
       "      <td>-162.732278</td>\n",
       "    </tr>\n",
       "    <tr>\n",
       "      <th>2651</th>\n",
       "      <td>Kenedy, Texas</td>\n",
       "      <td>-160.939796</td>\n",
       "    </tr>\n",
       "    <tr>\n",
       "      <th>1749</th>\n",
       "      <td>Esmeralda, Nevada</td>\n",
       "      <td>-135.167379</td>\n",
       "    </tr>\n",
       "  </tbody>\n",
       "</table>\n",
       "</div>"
      ],
      "text/plain": [
       "                      County  GM Log Likelihood\n",
       "2914  Bedford City, Virginia        -245.937199\n",
       "546          Kalawao, Hawaii        -201.862761\n",
       "2671           Loving, Texas        -162.732278\n",
       "2651           Kenedy, Texas        -160.939796\n",
       "1749       Esmeralda, Nevada        -135.167379"
      ]
     },
     "execution_count": 80,
     "metadata": {},
     "output_type": "execute_result"
    }
   ],
   "source": [
    "# GM clustering: top 5 anomalies\n",
    "f3 = final_list3.head(5)\n",
    "f3"
   ]
  },
  {
   "cell_type": "code",
   "execution_count": 81,
   "metadata": {
    "ExecuteTime": {
     "end_time": "2018-04-26T02:24:03.363000Z",
     "start_time": "2018-04-26T02:24:03.349000Z"
    },
    "scrolled": true
   },
   "outputs": [
    {
     "data": {
      "text/html": [
       "<div>\n",
       "<style>\n",
       "    .dataframe thead tr:only-child th {\n",
       "        text-align: right;\n",
       "    }\n",
       "\n",
       "    .dataframe thead th {\n",
       "        text-align: left;\n",
       "    }\n",
       "\n",
       "    .dataframe tbody tr th {\n",
       "        vertical-align: top;\n",
       "    }\n",
       "</style>\n",
       "<table border=\"1\" class=\"dataframe\">\n",
       "  <thead>\n",
       "    <tr style=\"text-align: right;\">\n",
       "      <th></th>\n",
       "      <th>County</th>\n",
       "      <th>clf_score</th>\n",
       "    </tr>\n",
       "  </thead>\n",
       "  <tbody>\n",
       "    <tr>\n",
       "      <th>90</th>\n",
       "      <td>Wade Hampton, Alaska</td>\n",
       "      <td>-0.145391</td>\n",
       "    </tr>\n",
       "    <tr>\n",
       "      <th>2415</th>\n",
       "      <td>Shannon, South Dakota</td>\n",
       "      <td>-0.135611</td>\n",
       "    </tr>\n",
       "    <tr>\n",
       "      <th>80</th>\n",
       "      <td>Lake and Peninsula, Alaska</td>\n",
       "      <td>-0.120733</td>\n",
       "    </tr>\n",
       "    <tr>\n",
       "      <th>70</th>\n",
       "      <td>Bethel, Alaska</td>\n",
       "      <td>-0.118123</td>\n",
       "    </tr>\n",
       "    <tr>\n",
       "      <th>84</th>\n",
       "      <td>Northwest Arctic, Alaska</td>\n",
       "      <td>-0.110241</td>\n",
       "    </tr>\n",
       "  </tbody>\n",
       "</table>\n",
       "</div>"
      ],
      "text/plain": [
       "                          County  clf_score\n",
       "90          Wade Hampton, Alaska  -0.145391\n",
       "2415       Shannon, South Dakota  -0.135611\n",
       "80    Lake and Peninsula, Alaska  -0.120733\n",
       "70                Bethel, Alaska  -0.118123\n",
       "84      Northwest Arctic, Alaska  -0.110241"
      ]
     },
     "execution_count": 81,
     "metadata": {},
     "output_type": "execute_result"
    }
   ],
   "source": [
    "# Isolation Forest: top 5 anomalies\n",
    "f4 = final_list4.head(5)\n",
    "f4"
   ]
  },
  {
   "cell_type": "markdown",
   "metadata": {},
   "source": [
    "ANSWER: Yes, there are many counties which are found to be anomalous by one model but not anomalous by other model. Actually only the result of K means clustering and that of isolation forest have there overlapping counties. The other methods yields complete different results from each other. "
   ]
  },
  {
   "cell_type": "code",
   "execution_count": 90,
   "metadata": {
    "ExecuteTime": {
     "end_time": "2018-04-26T02:32:05.723000Z",
     "start_time": "2018-04-26T02:32:05.713000Z"
    }
   },
   "outputs": [
    {
     "data": {
      "text/plain": [
       "2415       Shannon, South Dakota\n",
       "90          Wade Hampton, Alaska\n",
       "84      Northwest Arctic, Alaska\n",
       "Name: County, dtype: object"
      ]
     },
     "execution_count": 90,
     "metadata": {},
     "output_type": "execute_result"
    }
   ],
   "source": [
    "# Counties that are labeled anomalous by both K means and isolation forest\n",
    "both = f2.index.intersection(f4.index)\n",
    "f2[f2.index.isin(both)]['County']"
   ]
  }
 ],
 "metadata": {
  "anaconda-cloud": {},
  "kernelspec": {
   "display_name": "Python 2",
   "language": "python",
   "name": "python2"
  },
  "language_info": {
   "codemirror_mode": {
    "name": "ipython",
    "version": 2
   },
   "file_extension": ".py",
   "mimetype": "text/x-python",
   "name": "python",
   "nbconvert_exporter": "python",
   "pygments_lexer": "ipython2",
   "version": "2.7.14"
  }
 },
 "nbformat": 4,
 "nbformat_minor": 1
}
